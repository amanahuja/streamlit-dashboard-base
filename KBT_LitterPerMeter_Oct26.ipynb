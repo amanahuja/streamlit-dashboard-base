{
 "cells": [
  {
   "cell_type": "markdown",
   "id": "19e5745b-feb9-4cda-847f-acb914984d31",
   "metadata": {},
   "source": [
    "# Setup and Imports"
   ]
  },
  {
   "cell_type": "code",
   "execution_count": 1,
   "id": "b8fe3a07-ad82-4414-83b0-3d8b60127bcd",
   "metadata": {},
   "outputs": [],
   "source": [
    "import os \n",
    "\n",
    "import pandas as pd\n",
    "import matplotlib.pyplot as plt\n",
    "import plotly.express as px\n",
    "\n",
    "import ipywidgets as widgets\n",
    "from IPython.display import display\n",
    "from ipywidgets import interactive_output"
   ]
  },
  {
   "cell_type": "code",
   "execution_count": 2,
   "id": "5757ec3f-bb20-48e2-96e2-814235e33e22",
   "metadata": {},
   "outputs": [
    {
     "data": {
      "image/png": "[encoded data removed]",
      "text/plain": [
       "<Figure size 1000x100 with 1 Axes>"
      ]
     },
     "metadata": {},
     "output_type": "display_data"
    }
   ],
   "source": [
    "litterati_color = '#0179ff'\n",
    "litterati_colors_8 = [\"#0179ff\", \"#0060cc\", \"#1f8eff\", \"#0052b3\", \"#3394ff\", \"#6789cc\", \"#0066ff\", \"#33a1ff\"]\n",
    "\n",
    "litterati_colors = [\n",
    "    \"#0179ff\",   # Base Color (Blue)\n",
    "    \"#33a1ff\",   # Lighter and More Saturated Shade (Light Blue)\n",
    "    \"#3394ff\",   # Lighter Shade (Light Blue)\n",
    "    \"#0066ff\",   # Slightly Saturated Shade (Medium Blue)\n",
    "    \"#1f8eff\",   # Slightly Lighter Shade (Medium Blue)\n",
    "    \"#0060cc\",   # Slightly Darker Shade (Medium Blue)\n",
    "    \"#0052b3\",   # Darker Shade (Dark Blue)\n",
    "    \"#004699\",   # Even Darker Shade (Dark Blue)\n",
    "    \"#0040cc\",   # Even Darker and Slightly Saturated Shade (Dark Blue)\n",
    "    \"#0040a3\",   # Even Darker and Less Saturated Shade (Dark Blue)\n",
    "    \"#b3e0ff\",   # Very Light Shade (Very Light Blue)\n",
    "    \"#8ab3cc\",   # Light Shade with Reduced Saturation (Light Grayish Blue)\n",
    "    \"#ffcc00\",   # Yellow Shade\n",
    "    \"#cc7a00\",   # Dark Yellow Shade\n",
    "    \"#a31700\",   # Reddish Shade\n",
    "    \"#e64d00\",   # Orange Shade\n",
    "    \"#ff99cc\"    # Light Pink Shade\n",
    "]\n",
    "\n",
    "\n",
    "# Create color bars\n",
    "fig, ax = plt.subplots(figsize=(10, 1))\n",
    "for i, color in enumerate(litterati_colors):\n",
    "    ax.fill_between([i, i + 1], 0, 1, color=color)\n",
    "ax.set_xticks(range(len(litterati_colors)))\n",
    "ax.set_xticklabels(range(1, len(litterati_colors) + 1))\n",
    "ax.set_yticks([])\n",
    "ax.set_title(\"Litterati Color Palette\")\n",
    "\n",
    "# Show the color palette\n",
    "plt.show()"
   ]
  },
  {
   "cell_type": "markdown",
   "id": "5886169f-1c04-455e-8bf9-9f14e93c31ad",
   "metadata": {},
   "source": [
    "# Load data"
   ]
  },
  {
   "cell_type": "code",
   "execution_count": 43,
   "id": "ca42ac9c-06d1-447d-b8d6-07d778630ed9",
   "metadata": {},
   "outputs": [],
   "source": [
    "df = pd.read_csv(\"data/segments_counts_oct25_2023.csv\")\n",
    "\n",
    "segment_cols = {\n",
    "    'segment_id': 'segment_id',\n",
    "    'all_count': 'litter_count',\n",
    "    'non_srl_count': 'count_nosrl',\n",
    "    'food_count': 'count_food',\n",
    "    'drink_count': 'count_drink',\n",
    "    'wrapper_count': 'count_wrapper',\n",
    "    'bottle_count': 'count_bottle',\n",
    "    'can_count': 'count_can',\n",
    "    'all_cups_count': 'count_all_cups', # new\n",
    "    'fast_food_count': 'count_fastfood', # new\n",
    "    'segment_distance': 'segment_length',\n",
    "    'land_use': 'land_use',\n",
    "    'Region': 'region',\n",
    "    # 'imd_score': 'imd_score',\n",
    "    'imd_decile': 'imd_decile',\n",
    "    'imd_quintile': 'imd_quintile',\n",
    "    'urban_rural': 'urban_rural_desc',\n",
    "}\n",
    "\n",
    "# ignored\n",
    "# LSOA, Loc, Unique_ID, imd scores for (income, employment, etc)\n",
    "\n",
    "df = df[segment_cols.keys()].rename(columns=segment_cols, errors='ignore')"
   ]
  },
  {
   "cell_type": "code",
   "execution_count": 44,
   "id": "d04766e6-5a4a-49da-b2a6-86c6823773b9",
   "metadata": {},
   "outputs": [],
   "source": [
    "# Update object type for IMD Quintiles\n",
    "df['imd_quintile'] = df.imd_quintile.astype(str)\n",
    "df['imd_decile'] = df.imd_decile.astype(str)"
   ]
  },
  {
   "cell_type": "code",
   "execution_count": 45,
   "id": "0d2ad23c-e6f9-4f9b-a562-2ec8d92324ed",
   "metadata": {},
   "outputs": [
    {
     "data": {
      "text/plain": [
       "Index(['segment_id', 'litter_count', 'count_nosrl', 'count_food',\n",
       "       'count_drink', 'count_wrapper', 'count_bottle', 'count_can',\n",
       "       'count_all_cups', 'count_fastfood', 'segment_length', 'land_use',\n",
       "       'region', 'imd_decile', 'imd_quintile', 'urban_rural_desc'],\n",
       "      dtype='object')"
      ]
     },
     "execution_count": 45,
     "metadata": {},
     "output_type": "execute_result"
    }
   ],
   "source": [
    "df.columns"
   ]
  },
  {
   "cell_type": "code",
   "execution_count": 46,
   "id": "0f0465ed-8848-4969-a85c-f7030de3e86e",
   "metadata": {},
   "outputs": [
    {
     "data": {
      "text/html": [
       "<div>\n",
       "<style scoped>\n",
       "    .dataframe tbody tr th:only-of-type {\n",
       "        vertical-align: middle;\n",
       "    }\n",
       "\n",
       "    .dataframe tbody tr th {\n",
       "        vertical-align: top;\n",
       "    }\n",
       "\n",
       "    .dataframe thead th {\n",
       "        text-align: right;\n",
       "    }\n",
       "</style>\n",
       "<table border=\"1\" class=\"dataframe\">\n",
       "  <thead>\n",
       "    <tr style=\"text-align: right;\">\n",
       "      <th></th>\n",
       "      <th>0</th>\n",
       "    </tr>\n",
       "  </thead>\n",
       "  <tbody>\n",
       "    <tr>\n",
       "      <th>segment_id</th>\n",
       "      <td>22222</td>\n",
       "    </tr>\n",
       "    <tr>\n",
       "      <th>litter_count</th>\n",
       "      <td>14</td>\n",
       "    </tr>\n",
       "    <tr>\n",
       "      <th>count_nosrl</th>\n",
       "      <td>14</td>\n",
       "    </tr>\n",
       "    <tr>\n",
       "      <th>count_food</th>\n",
       "      <td>6</td>\n",
       "    </tr>\n",
       "    <tr>\n",
       "      <th>count_drink</th>\n",
       "      <td>2</td>\n",
       "    </tr>\n",
       "    <tr>\n",
       "      <th>count_wrapper</th>\n",
       "      <td>5</td>\n",
       "    </tr>\n",
       "    <tr>\n",
       "      <th>count_bottle</th>\n",
       "      <td>1</td>\n",
       "    </tr>\n",
       "    <tr>\n",
       "      <th>count_can</th>\n",
       "      <td>0</td>\n",
       "    </tr>\n",
       "    <tr>\n",
       "      <th>count_all_cups</th>\n",
       "      <td>1</td>\n",
       "    </tr>\n",
       "    <tr>\n",
       "      <th>count_fastfood</th>\n",
       "      <td>1</td>\n",
       "    </tr>\n",
       "    <tr>\n",
       "      <th>segment_length</th>\n",
       "      <td>17.8</td>\n",
       "    </tr>\n",
       "    <tr>\n",
       "      <th>land_use</th>\n",
       "      <td>Rural roads</td>\n",
       "    </tr>\n",
       "    <tr>\n",
       "      <th>region</th>\n",
       "      <td>South East (England)</td>\n",
       "    </tr>\n",
       "    <tr>\n",
       "      <th>imd_decile</th>\n",
       "      <td>2</td>\n",
       "    </tr>\n",
       "    <tr>\n",
       "      <th>imd_quintile</th>\n",
       "      <td>1</td>\n",
       "    </tr>\n",
       "    <tr>\n",
       "      <th>urban_rural_desc</th>\n",
       "      <td>Rural village and dispersed</td>\n",
       "    </tr>\n",
       "  </tbody>\n",
       "</table>\n",
       "</div>"
      ],
      "text/plain": [
       "                                            0\n",
       "segment_id                              22222\n",
       "litter_count                               14\n",
       "count_nosrl                                14\n",
       "count_food                                  6\n",
       "count_drink                                 2\n",
       "count_wrapper                               5\n",
       "count_bottle                                1\n",
       "count_can                                   0\n",
       "count_all_cups                              1\n",
       "count_fastfood                              1\n",
       "segment_length                           17.8\n",
       "land_use                          Rural roads\n",
       "region                   South East (England)\n",
       "imd_decile                                  2\n",
       "imd_quintile                                1\n",
       "urban_rural_desc  Rural village and dispersed"
      ]
     },
     "execution_count": 46,
     "metadata": {},
     "output_type": "execute_result"
    }
   ],
   "source": [
    "df.head(1).T"
   ]
  },
  {
   "cell_type": "code",
   "execution_count": 47,
   "id": "e3e51e72-86c8-4a2b-9b33-a892cce56fd0",
   "metadata": {},
   "outputs": [],
   "source": [
    "display_map = {\n",
    " 'segment_id': 'Segment ID',\n",
    " 'litter_count': 'Total Litter',\n",
    " 'count_nosrl': 'Non Smoking Related Litter',\n",
    " 'count_food': 'Food Litter',\n",
    " 'count_fastfood': 'Fast Food Litter', \n",
    " 'count_drink': 'Drink Litter',\n",
    " 'count_wrapper': 'Wrappers',\n",
    " 'count_bottle': 'Bottles',\n",
    " 'count_can': 'Cans',\n",
    " 'count_bottles_and_cans': 'Bottles and Cans',\n",
    " 'count_all_cups': 'All cups',\n",
    " 'segment_length': 'Segment Length',\n",
    " 'land_use': 'Land Use Type',\n",
    " 'region': 'Region of England',\n",
    " 'imd_score': 'IMD Score',\n",
    " 'imd_decile': 'IMD Decile',\n",
    " 'imd_quintile': 'IMD Quintile',\n",
    " 'imd_decile': 'IMD Decile',\n",
    " 'urban_rural': 'Urban vs Rural',\n",
    " 'urban_rural_desc': 'Urban / Rural description',\n",
    " 'urban_rural_class': 'Urban / Rural class',\n",
    "}"
   ]
  },
  {
   "cell_type": "markdown",
   "id": "430a4b4f-cb6b-4be6-b9ff-757030536e39",
   "metadata": {},
   "source": [
    "## Sanity checks"
   ]
  },
  {
   "cell_type": "code",
   "execution_count": 48,
   "id": "0bbad28e-45c8-4df3-afbf-ce900294d0c1",
   "metadata": {},
   "outputs": [
    {
     "data": {
      "text/plain": [
       "5922"
      ]
     },
     "execution_count": 48,
     "metadata": {},
     "output_type": "execute_result"
    }
   ],
   "source": [
    "len(df) "
   ]
  },
  {
   "cell_type": "code",
   "execution_count": 49,
   "id": "8f868755-c848-4b47-a6b2-ee69b39225c3",
   "metadata": {},
   "outputs": [
    {
     "data": {
      "text/plain": [
       "343889.69999999995"
      ]
     },
     "execution_count": 49,
     "metadata": {},
     "output_type": "execute_result"
    }
   ],
   "source": [
    "# Total length in Meters, distance surveyed\n",
    "df.segment_length.sum()"
   ]
  },
  {
   "cell_type": "code",
   "execution_count": 50,
   "id": "d65bbff8-9e69-4a96-985b-ec922216f9b9",
   "metadata": {},
   "outputs": [
    {
     "name": "stdout",
     "output_type": "stream",
     "text": [
      "250\n",
      "0\n"
     ]
    }
   ],
   "source": [
    "## No litter? \n",
    "\n",
    "print(sum(df.count_nosrl == 0))\n",
    "\n",
    "print(sum(df.litter_count == 0))\n"
   ]
  },
  {
   "cell_type": "code",
   "execution_count": 51,
   "id": "f17440e5-2297-4280-8599-5288fe139d1b",
   "metadata": {},
   "outputs": [
    {
     "data": {
      "text/plain": [
       "0"
      ]
     },
     "execution_count": 51,
     "metadata": {},
     "output_type": "execute_result"
    }
   ],
   "source": [
    "## zero-sized segments\n",
    "\n",
    "sum(df['segment_length'] == 0)"
   ]
  },
  {
   "cell_type": "code",
   "execution_count": 52,
   "id": "4bb90c79-05ec-4a52-8b66-130428b58cfe",
   "metadata": {},
   "outputs": [
    {
     "data": {
      "text/html": [
       "<div>\n",
       "<style scoped>\n",
       "    .dataframe tbody tr th:only-of-type {\n",
       "        vertical-align: middle;\n",
       "    }\n",
       "\n",
       "    .dataframe tbody tr th {\n",
       "        vertical-align: top;\n",
       "    }\n",
       "\n",
       "    .dataframe thead th {\n",
       "        text-align: right;\n",
       "    }\n",
       "</style>\n",
       "<table border=\"1\" class=\"dataframe\">\n",
       "  <thead>\n",
       "    <tr style=\"text-align: right;\">\n",
       "      <th></th>\n",
       "      <th>206</th>\n",
       "      <th>914</th>\n",
       "      <th>4417</th>\n",
       "      <th>4418</th>\n",
       "      <th>4419</th>\n",
       "    </tr>\n",
       "  </thead>\n",
       "  <tbody>\n",
       "    <tr>\n",
       "      <th>segment_id</th>\n",
       "      <td>23581</td>\n",
       "      <td>24886</td>\n",
       "      <td>33269</td>\n",
       "      <td>33270</td>\n",
       "      <td>33271</td>\n",
       "    </tr>\n",
       "    <tr>\n",
       "      <th>litter_count</th>\n",
       "      <td>2</td>\n",
       "      <td>84</td>\n",
       "      <td>214</td>\n",
       "      <td>753</td>\n",
       "      <td>184</td>\n",
       "    </tr>\n",
       "    <tr>\n",
       "      <th>count_nosrl</th>\n",
       "      <td>0</td>\n",
       "      <td>64</td>\n",
       "      <td>175</td>\n",
       "      <td>636</td>\n",
       "      <td>139</td>\n",
       "    </tr>\n",
       "    <tr>\n",
       "      <th>count_food</th>\n",
       "      <td>0</td>\n",
       "      <td>26</td>\n",
       "      <td>59</td>\n",
       "      <td>176</td>\n",
       "      <td>39</td>\n",
       "    </tr>\n",
       "    <tr>\n",
       "      <th>count_drink</th>\n",
       "      <td>0</td>\n",
       "      <td>5</td>\n",
       "      <td>80</td>\n",
       "      <td>279</td>\n",
       "      <td>30</td>\n",
       "    </tr>\n",
       "    <tr>\n",
       "      <th>count_wrapper</th>\n",
       "      <td>0</td>\n",
       "      <td>13</td>\n",
       "      <td>53</td>\n",
       "      <td>148</td>\n",
       "      <td>33</td>\n",
       "    </tr>\n",
       "    <tr>\n",
       "      <th>count_bottle</th>\n",
       "      <td>0</td>\n",
       "      <td>0</td>\n",
       "      <td>11</td>\n",
       "      <td>56</td>\n",
       "      <td>8</td>\n",
       "    </tr>\n",
       "    <tr>\n",
       "      <th>count_can</th>\n",
       "      <td>0</td>\n",
       "      <td>1</td>\n",
       "      <td>58</td>\n",
       "      <td>141</td>\n",
       "      <td>6</td>\n",
       "    </tr>\n",
       "    <tr>\n",
       "      <th>count_all_cups</th>\n",
       "      <td>0</td>\n",
       "      <td>0</td>\n",
       "      <td>2</td>\n",
       "      <td>11</td>\n",
       "      <td>2</td>\n",
       "    </tr>\n",
       "    <tr>\n",
       "      <th>count_fastfood</th>\n",
       "      <td>0</td>\n",
       "      <td>0</td>\n",
       "      <td>1</td>\n",
       "      <td>0</td>\n",
       "      <td>0</td>\n",
       "    </tr>\n",
       "    <tr>\n",
       "      <th>segment_length</th>\n",
       "      <td>1057.6</td>\n",
       "      <td>1407.5</td>\n",
       "      <td>757.6</td>\n",
       "      <td>2613.4</td>\n",
       "      <td>4619.3</td>\n",
       "    </tr>\n",
       "    <tr>\n",
       "      <th>land_use</th>\n",
       "      <td>Other retail commercial areas</td>\n",
       "      <td>High Obstruction housing areas</td>\n",
       "      <td>Other retail commercial areas</td>\n",
       "      <td>Other retail commercial areas</td>\n",
       "      <td>Other retail commercial areas</td>\n",
       "    </tr>\n",
       "    <tr>\n",
       "      <th>region</th>\n",
       "      <td>London</td>\n",
       "      <td>London</td>\n",
       "      <td>West Midlands (England)</td>\n",
       "      <td>West Midlands (England)</td>\n",
       "      <td>West Midlands (England)</td>\n",
       "    </tr>\n",
       "    <tr>\n",
       "      <th>imd_decile</th>\n",
       "      <td>6</td>\n",
       "      <td>5</td>\n",
       "      <td>4</td>\n",
       "      <td>4</td>\n",
       "      <td>4</td>\n",
       "    </tr>\n",
       "    <tr>\n",
       "      <th>imd_quintile</th>\n",
       "      <td>3</td>\n",
       "      <td>3</td>\n",
       "      <td>2</td>\n",
       "      <td>2</td>\n",
       "      <td>2</td>\n",
       "    </tr>\n",
       "    <tr>\n",
       "      <th>urban_rural_desc</th>\n",
       "      <td>Urban major conurbation</td>\n",
       "      <td>Urban major conurbation</td>\n",
       "      <td>Urban city and town</td>\n",
       "      <td>Urban city and town</td>\n",
       "      <td>Urban city and town</td>\n",
       "    </tr>\n",
       "  </tbody>\n",
       "</table>\n",
       "</div>"
      ],
      "text/plain": [
       "                                           206   \\\n",
       "segment_id                                23581   \n",
       "litter_count                                  2   \n",
       "count_nosrl                                   0   \n",
       "count_food                                    0   \n",
       "count_drink                                   0   \n",
       "count_wrapper                                 0   \n",
       "count_bottle                                  0   \n",
       "count_can                                     0   \n",
       "count_all_cups                                0   \n",
       "count_fastfood                                0   \n",
       "segment_length                           1057.6   \n",
       "land_use          Other retail commercial areas   \n",
       "region                                   London   \n",
       "imd_decile                                    6   \n",
       "imd_quintile                                  3   \n",
       "urban_rural_desc        Urban major conurbation   \n",
       "\n",
       "                                            914   \\\n",
       "segment_id                                 24886   \n",
       "litter_count                                  84   \n",
       "count_nosrl                                   64   \n",
       "count_food                                    26   \n",
       "count_drink                                    5   \n",
       "count_wrapper                                 13   \n",
       "count_bottle                                   0   \n",
       "count_can                                      1   \n",
       "count_all_cups                                 0   \n",
       "count_fastfood                                 0   \n",
       "segment_length                            1407.5   \n",
       "land_use          High Obstruction housing areas   \n",
       "region                                    London   \n",
       "imd_decile                                     5   \n",
       "imd_quintile                                   3   \n",
       "urban_rural_desc         Urban major conurbation   \n",
       "\n",
       "                                           4417  \\\n",
       "segment_id                                33269   \n",
       "litter_count                                214   \n",
       "count_nosrl                                 175   \n",
       "count_food                                   59   \n",
       "count_drink                                  80   \n",
       "count_wrapper                                53   \n",
       "count_bottle                                 11   \n",
       "count_can                                    58   \n",
       "count_all_cups                                2   \n",
       "count_fastfood                                1   \n",
       "segment_length                            757.6   \n",
       "land_use          Other retail commercial areas   \n",
       "region                  West Midlands (England)   \n",
       "imd_decile                                    4   \n",
       "imd_quintile                                  2   \n",
       "urban_rural_desc            Urban city and town   \n",
       "\n",
       "                                           4418                           4419  \n",
       "segment_id                                33270                          33271  \n",
       "litter_count                                753                            184  \n",
       "count_nosrl                                 636                            139  \n",
       "count_food                                  176                             39  \n",
       "count_drink                                 279                             30  \n",
       "count_wrapper                               148                             33  \n",
       "count_bottle                                 56                              8  \n",
       "count_can                                   141                              6  \n",
       "count_all_cups                               11                              2  \n",
       "count_fastfood                                0                              0  \n",
       "segment_length                           2613.4                         4619.3  \n",
       "land_use          Other retail commercial areas  Other retail commercial areas  \n",
       "region                  West Midlands (England)        West Midlands (England)  \n",
       "imd_decile                                    4                              4  \n",
       "imd_quintile                                  2                              2  \n",
       "urban_rural_desc            Urban city and town            Urban city and town  "
      ]
     },
     "execution_count": 52,
     "metadata": {},
     "output_type": "execute_result"
    }
   ],
   "source": [
    "## very long segments\n",
    "\n",
    "sum(df['segment_length'] > 500)\n",
    "df[df['segment_length'] > 500].T"
   ]
  },
  {
   "cell_type": "code",
   "execution_count": 53,
   "id": "f51d7e9f-e3f9-4e3c-86aa-61bd449aa25e",
   "metadata": {},
   "outputs": [
    {
     "data": {
      "text/plain": [
       "0"
      ]
     },
     "execution_count": 53,
     "metadata": {},
     "output_type": "execute_result"
    }
   ],
   "source": [
    "sum(df.segment_length.isna())"
   ]
  },
  {
   "cell_type": "code",
   "execution_count": 54,
   "id": "3e59116e-884a-4311-9cd7-d6fdf891463b",
   "metadata": {},
   "outputs": [
    {
     "data": {
      "text/plain": [
       "5"
      ]
     },
     "execution_count": 54,
     "metadata": {},
     "output_type": "execute_result"
    }
   ],
   "source": [
    "mask = df.segment_length > 100\n",
    "mask.sum()"
   ]
  },
  {
   "cell_type": "markdown",
   "id": "bb1cd485-be0e-4cac-9013-5aac8e663e90",
   "metadata": {},
   "source": [
    "\n",
    "## Preprocessing steps"
   ]
  },
  {
   "cell_type": "code",
   "execution_count": 55,
   "id": "e23c9488-0592-4b4d-8b8e-8d8190315979",
   "metadata": {},
   "outputs": [],
   "source": [
    "# Derive simplified Urban/Rural classification from the corresponding descriptive column\n",
    "\n",
    "def set_urban_rural_class(desc): \n",
    "    \"\"\"Utility\"\"\"\n",
    "    if 'urban' in desc.lower(): \n",
    "        return 'urban'\n",
    "    else:\n",
    "        return 'rural'\n",
    "\n",
    "# create new column \n",
    "df['urban_rural_class'] = df.urban_rural_desc.apply(set_urban_rural_class)"
   ]
  },
  {
   "cell_type": "code",
   "execution_count": 56,
   "id": "53e18fe4-dc64-4984-891d-00c36b01d7f7",
   "metadata": {},
   "outputs": [],
   "source": [
    "# add a new count combining bottles and cans\n",
    "df['count_bottles_and_cans'] = (df['count_bottle'] + df['count_can'])\n"
   ]
  },
  {
   "cell_type": "code",
   "execution_count": 57,
   "id": "811c596e-e4dc-4c5d-a09c-a22a017cef67",
   "metadata": {},
   "outputs": [
    {
     "data": {
      "text/plain": [
       "0"
      ]
     },
     "execution_count": 57,
     "metadata": {},
     "output_type": "execute_result"
    }
   ],
   "source": [
    "# Fill NaN values in 'segment_distance' with zeros\n",
    "df['segment_length'].fillna(50, inplace=True)\n",
    "sum(df.segment_length.isna())"
   ]
  },
  {
   "cell_type": "code",
   "execution_count": 58,
   "id": "ec9f13d8-d698-4565-8584-a166b945350e",
   "metadata": {},
   "outputs": [
    {
     "name": "stdout",
     "output_type": "stream",
     "text": [
      "0\n"
     ]
    }
   ],
   "source": [
    "# Set all segments between 100 m and 500m to 100m \n",
    "mask = (df.segment_length > 100) & (df.segment_length < 500)\n",
    "df.loc[mask, 'segment_length'] = 100\n",
    "\n",
    "# check\n",
    "mask = (df.segment_length > 100) & (df.segment_length < 500)\n",
    "print(mask.sum())"
   ]
  },
  {
   "cell_type": "markdown",
   "id": "68bbcbd4-d6ad-435c-9142-9ca9e9ff7a7b",
   "metadata": {},
   "source": [
    "# Litter Per Meter (LPM)\n",
    "\n",
    "## Definition \n",
    "This metric, LPM, estimates the amount of litter per meter. \n",
    "\n",
    "To compute LPM for a given segment, we can count the number of pieces of litter in that segment and divide by the length of the segment in meters. \n"
   ]
  },
  {
   "cell_type": "code",
   "execution_count": 59,
   "id": "01fd9e06-de30-4ef2-856d-54dacdabadee",
   "metadata": {},
   "outputs": [],
   "source": [
    "def compute_lpm(df, group_column, count_column):\n",
    "    \"\"\"Compute LPM for a groupby operation\"\"\"\n",
    "    # Group by the specified column and calculate the sum of the count_column and segment_length\n",
    "    grouped = df.groupby(group_column).agg({count_column: 'sum', 'segment_length': 'sum'})\n",
    "\n",
    "    # Calculate LPM for each group\n",
    "    grouped['LPM'] = grouped[count_column] / grouped['segment_length']\n",
    "\n",
    "    # Reset the index to have a new DataFrame with the group_column as a regular column\n",
    "    grouped.reset_index(inplace=True)\n",
    "\n",
    "    return grouped\n",
    "\n",
    "# plot LPM\n",
    "def plot_lpm(lpmdf, group_column, count_column):\n",
    "    \n",
    "    # sort\n",
    "    lpmdf = lpmdf.sort_values(by='LPM', ascending=True)\n",
    "    \n",
    "    # Create a bar chart\n",
    "    title = f'LPM for \"{display_map[count_column]}\" by {display_map[group_column]}'\n",
    "    fig = px.bar(lpmdf, x='LPM', y=group_column, \n",
    "                 # text=count_column, \n",
    "                 title=title,\n",
    "                 width=1000, height=600, \n",
    "                 color_discrete_sequence=litterati_colors)\n",
    "\n",
    "    # Customize the chart appearance\n",
    "    # to show values next to bar chart: \n",
    "    fig.update_traces(\n",
    "        text=None,\n",
    "        # texttemplate='%{text}', textposition='outside'\n",
    "    )\n",
    "    \n",
    "    fig.update_layout(\n",
    "        xaxis_title='LPM (Litter per Meter)', \n",
    "        yaxis_title=display_map[group_column])\n",
    "\n",
    "    return fig\n",
    "\n",
    "# Manual usage - disabled\n",
    "# group_column = 'region'\n",
    "# count_column = 'count_nosrl'"
   ]
  },
  {
   "cell_type": "code",
   "execution_count": 60,
   "id": "cfe138af-c877-4e4b-845f-a8f137d4a33e",
   "metadata": {},
   "outputs": [
    {
     "data": {
      "text/plain": [
       "Index(['segment_id', 'litter_count', 'count_nosrl', 'count_food',\n",
       "       'count_drink', 'count_wrapper', 'count_bottle', 'count_can',\n",
       "       'count_all_cups', 'count_fastfood', 'segment_length', 'land_use',\n",
       "       'region', 'imd_decile', 'imd_quintile', 'urban_rural_desc',\n",
       "       'urban_rural_class', 'count_bottles_and_cans'],\n",
       "      dtype='object')"
      ]
     },
     "execution_count": 60,
     "metadata": {},
     "output_type": "execute_result"
    }
   ],
   "source": [
    "df.columns"
   ]
  },
  {
   "cell_type": "code",
   "execution_count": 64,
   "id": "fa28f83d-beaf-4de4-a16c-83118d60ccd8",
   "metadata": {},
   "outputs": [
    {
     "data": {
      "text/plain": [
       "['litter_count',\n",
       " 'count_nosrl',\n",
       " 'count_food',\n",
       " 'count_drink',\n",
       " 'count_wrapper',\n",
       " 'count_bottle',\n",
       " 'count_can',\n",
       " 'count_all_cups',\n",
       " 'count_fastfood',\n",
       " 'count_bottles_and_cans']"
      ]
     },
     "execution_count": 64,
     "metadata": {},
     "output_type": "execute_result"
    }
   ],
   "source": [
    "count_cols"
   ]
  },
  {
   "cell_type": "code",
   "execution_count": 145,
   "id": "31120950-9e19-4a21-91b1-26a1d9666cb9",
   "metadata": {},
   "outputs": [
    {
     "data": {
      "application/vnd.jupyter.widget-view+json": {
       "model_id": "af9ac08595ea4e699166955d5bf14a38",
       "version_major": 2,
       "version_minor": 0
      },
      "text/plain": [
       "Dropdown(description='Select Group Column:', layout=Layout(width='50%'), options=('Region of England', 'Urban …"
      ]
     },
     "metadata": {},
     "output_type": "display_data"
    },
    {
     "data": {
      "application/vnd.jupyter.widget-view+json": {
       "model_id": "cf3d1713138d49988b174a7dceda7a34",
       "version_major": 2,
       "version_minor": 0
      },
      "text/plain": [
       "Dropdown(description='Select Count Column:', index=1, layout=Layout(width='50%'), options=('Total Litter', 'No…"
      ]
     },
     "metadata": {},
     "output_type": "display_data"
    },
    {
     "data": {
      "application/vnd.jupyter.widget-view+json": {
       "model_id": "e65989fc8ceb4343aa179455f219f410",
       "version_major": 2,
       "version_minor": 0
      },
      "text/plain": [
       "Output()"
      ]
     },
     "metadata": {},
     "output_type": "display_data"
    }
   ],
   "source": [
    "# Create dropdown widgets for selecting group_column and count_column\n",
    "\n",
    "group_cols = ['region', 'urban_rural_class', 'land_use', 'imd_quintile', 'imd_decile', 'urban_rural_desc']\n",
    "\n",
    "# group columns selection\n",
    "group_column_selector = widgets.Dropdown(\n",
    "    options=[display_map[c] for c in group_cols],\n",
    "    value='Region of England',\n",
    "    description='Select Group Column:'\n",
    ")\n",
    "\n",
    "# Adjust the style of the dropdown to give more width to the description\n",
    "group_column_selector.style.description_width = 'initial'\n",
    "group_column_selector.layout.width = '50%'  # Set the width of the dropdown\n",
    "\n",
    "# count columns selection\n",
    "# Auto: count_cols = ['litter_count'] + [c for c in df.columns if c.startswith('count')]\n",
    "# Manual, in order to set desired order: \n",
    "count_cols = ['litter_count', 'count_nosrl', 'count_food', 'count_drink', 'count_fastfood', \n",
    "              'count_all_cups', 'count_wrapper', 'count_bottles_and_cans', 'count_bottle', 'count_can']\n",
    "\n",
    "count_column_selector = widgets.Dropdown(\n",
    "    options=[display_map[c] for c in count_cols],\n",
    "    value='Non Smoking Related Litter',\n",
    "    description='Select Count Column:'\n",
    ")\n",
    "\n",
    "# Adjust the style of the dropdown to give more width to the description\n",
    "count_column_selector.style.description_width = 'initial'\n",
    "count_column_selector.layout.width = '50%'  # Set the width of the dropdown\n",
    "\n",
    "# Create a function that updates the plot based on dropdown values\n",
    "def update_plot(group_column, count_column):\n",
    "    # Reverse lookup from the display_map to get the actual column names\n",
    "    group_column = [k for k, v in display_map.items() if v == group_column][0]\n",
    "    count_column = [k for k, v in display_map.items() if v == count_column][0]\n",
    "    \n",
    "    lpm_group_df = compute_lpm(df, group_column, count_column)\n",
    "    fig = plot_lpm(lpm_group_df, group_column, count_column)\n",
    "\n",
    "    fig.show()\n",
    "\n",
    "# Use interactive_output to link the function and the dropdowns\n",
    "output = interactive_output(update_plot, {'group_column': group_column_selector, 'count_column': count_column_selector})\n",
    "\n",
    "# Display the dropdown widgets\n",
    "display(group_column_selector, count_column_selector, output)\n"
   ]
  },
  {
   "cell_type": "code",
   "execution_count": 68,
   "id": "8655b342-4dc6-4f4b-8162-1bb6ff7f4aa3",
   "metadata": {},
   "outputs": [
    {
     "data": {
      "text/plain": [
       "',segment_id,litter_count,count_nosrl,count_food,count_drink,count_wrapper,count_bottle,count_can,count_all_cups,count_fastfood,segment_length,land_use,region,imd_decile,imd_quintile,urban_rural_desc,urban_rural_class,count_bottles_and_cans\\n0,22222,14,14,6,2,5,1,0,1,1,17.8,Rural roads,South East (England),2,1,Rural village and dispersed,rural,1\\n1,22224,6,5,1,0,1,0,0,0,0,10.8,Rural roads,South East (England),2,1,Rural village and dispersed,rural,0\\n2,22226,8,7,0,5,0,1,4,0,0,11.0,Rural roads,South East (England),2,1,Rural village and dispersed,rural,5\\n3,22228,3,2,0,1,0,0,0,0,0,20.4,Rural roads,South East (England),2,1,Rural village and dispersed,rural,0\\n4,22229,1,1,0,0,0,0,0,0,0,12.0,Rural roads,South East (England),2,1,Rural village and dispersed,rural,0\\n'"
      ]
     },
     "execution_count": 68,
     "metadata": {},
     "output_type": "execute_result"
    }
   ],
   "source": [
    "df.head().to_csv()"
   ]
  },
  {
   "cell_type": "raw",
   "id": "13a76cd2-9e85-4397-9c75-90de27637d10",
   "metadata": {},
   "source": [
    "result = df.groupby(\"imd_quintile\")[\"segment_id\"].nunique()\n",
    "\n",
    "# Calculate the average count\n",
    "average_count = result.mean()\n",
    "\n",
    "# Create a bar plot with customizations\n",
    "ax = result.plot(kind='bar', color=litterati_color, width=0.7, figsize=(8, 6))\n",
    "plt.title(\"Number of segments by imd_quintile\")\n",
    "plt.xlabel(\"imd_quintile\")\n",
    "plt.ylabel(\"Number of Unique Segments\")\n",
    "plt.xticks(rotation=0)  # Rotate x-axis labels if needed\n",
    "\n",
    "# Add a discrete horizontal line for the average count\n",
    "ax.axhline(y=average_count, color=litterati_colors[9], alpha=0.8, linestyle='--')\n",
    "\n",
    "# Label the average value directly on the chart\n",
    "# Signature: plt.text(x, y, s, fontdict=None, **kwargs)\n",
    "plt.text(1, average_count + 1, f'Average: {average_count:.0f} segments', ha='right', va='bottom')\n",
    "\n",
    "plt.show()"
   ]
  },
  {
   "cell_type": "code",
   "execution_count": 124,
   "id": "36f4d0a6-0fcc-4b42-b37b-658bf951fe7a",
   "metadata": {},
   "outputs": [
    {
     "data": {
      "application/vnd.plotly.v1+json": {
       "config": {
        "plotlyServerURL": "https://plot.ly"
       },
       "data": [
        {
         "alignmentgroup": "True",
         "hovertemplate": "imd_decile=%{x}<br>segment_id=%{text}<extra></extra>",
         "legendgroup": "",
         "marker": {
          "color": "#0179ff",
          "pattern": {
           "shape": ""
          }
         },
         "name": "",
         "offsetgroup": "",
         "orientation": "v",
         "showlegend": false,
         "text": [
          529,
          654,
          552,
          559,
          565,
          411,
          712,
          586,
          664,
          690
         ],
         "textposition": "auto",
         "type": "bar",
         "width": 0.7,
         "x": [
          "1",
          "10",
          "2",
          "3",
          "4",
          "5",
          "6",
          "7",
          "8",
          "9"
         ],
         "xaxis": "x",
         "y": [
          529,
          654,
          552,
          559,
          565,
          411,
          712,
          586,
          664,
          690
         ],
         "yaxis": "y"
        }
       ],
       "layout": {
        "annotations": [
         {
          "font": {
           "size": 14
          },
          "showarrow": false,
          "text": "  Average: 592 segments",
          "x": 0,
          "xanchor": "left",
          "xref": "x domain",
          "y": 592.2,
          "yanchor": "bottom",
          "yref": "y"
         }
        ],
        "barmode": "relative",
        "height": 600,
        "legend": {
         "tracegroupgap": 0
        },
        "shapes": [
         {
          "line": {
           "color": "#0040a3",
           "dash": "dot",
           "width": 2
          },
          "type": "line",
          "x0": 0,
          "x1": 1,
          "xref": "x domain",
          "y0": 592.2,
          "y1": 592.2,
          "yref": "y"
         }
        ],
        "template": {
         "data": {
          "bar": [
           {
            "error_x": {
             "color": "#2a3f5f"
            },
            "error_y": {
             "color": "#2a3f5f"
            },
            "marker": {
             "line": {
              "color": "#E5ECF6",
              "width": 0.5
             },
             "pattern": {
              "fillmode": "overlay",
              "size": 10,
              "solidity": 0.2
             }
            },
            "type": "bar"
           }
          ],
          "barpolar": [
           {
            "marker": {
             "line": {
              "color": "#E5ECF6",
              "width": 0.5
             },
             "pattern": {
              "fillmode": "overlay",
              "size": 10,
              "solidity": 0.2
             }
            },
            "type": "barpolar"
           }
          ],
          "carpet": [
           {
            "aaxis": {
             "endlinecolor": "#2a3f5f",
             "gridcolor": "white",
             "linecolor": "white",
             "minorgridcolor": "white",
             "startlinecolor": "#2a3f5f"
            },
            "baxis": {
             "endlinecolor": "#2a3f5f",
             "gridcolor": "white",
             "linecolor": "white",
             "minorgridcolor": "white",
             "startlinecolor": "#2a3f5f"
            },
            "type": "carpet"
           }
          ],
          "choropleth": [
           {
            "colorbar": {
             "outlinewidth": 0,
             "ticks": ""
            },
            "type": "choropleth"
           }
          ],
          "contour": [
           {
            "colorbar": {
             "outlinewidth": 0,
             "ticks": ""
            },
            "colorscale": [
             [
              0,
              "#0d0887"
             ],
             [
              0.1111111111111111,
              "#46039f"
             ],
             [
              0.2222222222222222,
              "#7201a8"
             ],
             [
              0.3333333333333333,
              "#9c179e"
             ],
             [
              0.4444444444444444,
              "#bd3786"
             ],
             [
              0.5555555555555556,
              "#d8576b"
             ],
             [
              0.6666666666666666,
              "#ed7953"
             ],
             [
              0.7777777777777778,
              "#fb9f3a"
             ],
             [
              0.8888888888888888,
              "#fdca26"
             ],
             [
              1,
              "#f0f921"
             ]
            ],
            "type": "contour"
           }
          ],
          "contourcarpet": [
           {
            "colorbar": {
             "outlinewidth": 0,
             "ticks": ""
            },
            "type": "contourcarpet"
           }
          ],
          "heatmap": [
           {
            "colorbar": {
             "outlinewidth": 0,
             "ticks": ""
            },
            "colorscale": [
             [
              0,
              "#0d0887"
             ],
             [
              0.1111111111111111,
              "#46039f"
             ],
             [
              0.2222222222222222,
              "#7201a8"
             ],
             [
              0.3333333333333333,
              "#9c179e"
             ],
             [
              0.4444444444444444,
              "#bd3786"
             ],
             [
              0.5555555555555556,
              "#d8576b"
             ],
             [
              0.6666666666666666,
              "#ed7953"
             ],
             [
              0.7777777777777778,
              "#fb9f3a"
             ],
             [
              0.8888888888888888,
              "#fdca26"
             ],
             [
              1,
              "#f0f921"
             ]
            ],
            "type": "heatmap"
           }
          ],
          "heatmapgl": [
           {
            "colorbar": {
             "outlinewidth": 0,
             "ticks": ""
            },
            "colorscale": [
             [
              0,
              "#0d0887"
             ],
             [
              0.1111111111111111,
              "#46039f"
             ],
             [
              0.2222222222222222,
              "#7201a8"
             ],
             [
              0.3333333333333333,
              "#9c179e"
             ],
             [
              0.4444444444444444,
              "#bd3786"
             ],
             [
              0.5555555555555556,
              "#d8576b"
             ],
             [
              0.6666666666666666,
              "#ed7953"
             ],
             [
              0.7777777777777778,
              "#fb9f3a"
             ],
             [
              0.8888888888888888,
              "#fdca26"
             ],
             [
              1,
              "#f0f921"
             ]
            ],
            "type": "heatmapgl"
           }
          ],
          "histogram": [
           {
            "marker": {
             "pattern": {
              "fillmode": "overlay",
              "size": 10,
              "solidity": 0.2
             }
            },
            "type": "histogram"
           }
          ],
          "histogram2d": [
           {
            "colorbar": {
             "outlinewidth": 0,
             "ticks": ""
            },
            "colorscale": [
             [
              0,
              "#0d0887"
             ],
             [
              0.1111111111111111,
              "#46039f"
             ],
             [
              0.2222222222222222,
              "#7201a8"
             ],
             [
              0.3333333333333333,
              "#9c179e"
             ],
             [
              0.4444444444444444,
              "#bd3786"
             ],
             [
              0.5555555555555556,
              "#d8576b"
             ],
             [
              0.6666666666666666,
              "#ed7953"
             ],
             [
              0.7777777777777778,
              "#fb9f3a"
             ],
             [
              0.8888888888888888,
              "#fdca26"
             ],
             [
              1,
              "#f0f921"
             ]
            ],
            "type": "histogram2d"
           }
          ],
          "histogram2dcontour": [
           {
            "colorbar": {
             "outlinewidth": 0,
             "ticks": ""
            },
            "colorscale": [
             [
              0,
              "#0d0887"
             ],
             [
              0.1111111111111111,
              "#46039f"
             ],
             [
              0.2222222222222222,
              "#7201a8"
             ],
             [
              0.3333333333333333,
              "#9c179e"
             ],
             [
              0.4444444444444444,
              "#bd3786"
             ],
             [
              0.5555555555555556,
              "#d8576b"
             ],
             [
              0.6666666666666666,
              "#ed7953"
             ],
             [
              0.7777777777777778,
              "#fb9f3a"
             ],
             [
              0.8888888888888888,
              "#fdca26"
             ],
             [
              1,
              "#f0f921"
             ]
            ],
            "type": "histogram2dcontour"
           }
          ],
          "mesh3d": [
           {
            "colorbar": {
             "outlinewidth": 0,
             "ticks": ""
            },
            "type": "mesh3d"
           }
          ],
          "parcoords": [
           {
            "line": {
             "colorbar": {
              "outlinewidth": 0,
              "ticks": ""
             }
            },
            "type": "parcoords"
           }
          ],
          "pie": [
           {
            "automargin": true,
            "type": "pie"
           }
          ],
          "scatter": [
           {
            "fillpattern": {
             "fillmode": "overlay",
             "size": 10,
             "solidity": 0.2
            },
            "type": "scatter"
           }
          ],
          "scatter3d": [
           {
            "line": {
             "colorbar": {
              "outlinewidth": 0,
              "ticks": ""
             }
            },
            "marker": {
             "colorbar": {
              "outlinewidth": 0,
              "ticks": ""
             }
            },
            "type": "scatter3d"
           }
          ],
          "scattercarpet": [
           {
            "marker": {
             "colorbar": {
              "outlinewidth": 0,
              "ticks": ""
             }
            },
            "type": "scattercarpet"
           }
          ],
          "scattergeo": [
           {
            "marker": {
             "colorbar": {
              "outlinewidth": 0,
              "ticks": ""
             }
            },
            "type": "scattergeo"
           }
          ],
          "scattergl": [
           {
            "marker": {
             "colorbar": {
              "outlinewidth": 0,
              "ticks": ""
             }
            },
            "type": "scattergl"
           }
          ],
          "scattermapbox": [
           {
            "marker": {
             "colorbar": {
              "outlinewidth": 0,
              "ticks": ""
             }
            },
            "type": "scattermapbox"
           }
          ],
          "scatterpolar": [
           {
            "marker": {
             "colorbar": {
              "outlinewidth": 0,
              "ticks": ""
             }
            },
            "type": "scatterpolar"
           }
          ],
          "scatterpolargl": [
           {
            "marker": {
             "colorbar": {
              "outlinewidth": 0,
              "ticks": ""
             }
            },
            "type": "scatterpolargl"
           }
          ],
          "scatterternary": [
           {
            "marker": {
             "colorbar": {
              "outlinewidth": 0,
              "ticks": ""
             }
            },
            "type": "scatterternary"
           }
          ],
          "surface": [
           {
            "colorbar": {
             "outlinewidth": 0,
             "ticks": ""
            },
            "colorscale": [
             [
              0,
              "#0d0887"
             ],
             [
              0.1111111111111111,
              "#46039f"
             ],
             [
              0.2222222222222222,
              "#7201a8"
             ],
             [
              0.3333333333333333,
              "#9c179e"
             ],
             [
              0.4444444444444444,
              "#bd3786"
             ],
             [
              0.5555555555555556,
              "#d8576b"
             ],
             [
              0.6666666666666666,
              "#ed7953"
             ],
             [
              0.7777777777777778,
              "#fb9f3a"
             ],
             [
              0.8888888888888888,
              "#fdca26"
             ],
             [
              1,
              "#f0f921"
             ]
            ],
            "type": "surface"
           }
          ],
          "table": [
           {
            "cells": {
             "fill": {
              "color": "#EBF0F8"
             },
             "line": {
              "color": "white"
             }
            },
            "header": {
             "fill": {
              "color": "#C8D4E3"
             },
             "line": {
              "color": "white"
             }
            },
            "type": "table"
           }
          ]
         },
         "layout": {
          "annotationdefaults": {
           "arrowcolor": "#2a3f5f",
           "arrowhead": 0,
           "arrowwidth": 1
          },
          "autotypenumbers": "strict",
          "coloraxis": {
           "colorbar": {
            "outlinewidth": 0,
            "ticks": ""
           }
          },
          "colorscale": {
           "diverging": [
            [
             0,
             "#8e0152"
            ],
            [
             0.1,
             "#c51b7d"
            ],
            [
             0.2,
             "#de77ae"
            ],
            [
             0.3,
             "#f1b6da"
            ],
            [
             0.4,
             "#fde0ef"
            ],
            [
             0.5,
             "#f7f7f7"
            ],
            [
             0.6,
             "#e6f5d0"
            ],
            [
             0.7,
             "#b8e186"
            ],
            [
             0.8,
             "#7fbc41"
            ],
            [
             0.9,
             "#4d9221"
            ],
            [
             1,
             "#276419"
            ]
           ],
           "sequential": [
            [
             0,
             "#0d0887"
            ],
            [
             0.1111111111111111,
             "#46039f"
            ],
            [
             0.2222222222222222,
             "#7201a8"
            ],
            [
             0.3333333333333333,
             "#9c179e"
            ],
            [
             0.4444444444444444,
             "#bd3786"
            ],
            [
             0.5555555555555556,
             "#d8576b"
            ],
            [
             0.6666666666666666,
             "#ed7953"
            ],
            [
             0.7777777777777778,
             "#fb9f3a"
            ],
            [
             0.8888888888888888,
             "#fdca26"
            ],
            [
             1,
             "#f0f921"
            ]
           ],
           "sequentialminus": [
            [
             0,
             "#0d0887"
            ],
            [
             0.1111111111111111,
             "#46039f"
            ],
            [
             0.2222222222222222,
             "#7201a8"
            ],
            [
             0.3333333333333333,
             "#9c179e"
            ],
            [
             0.4444444444444444,
             "#bd3786"
            ],
            [
             0.5555555555555556,
             "#d8576b"
            ],
            [
             0.6666666666666666,
             "#ed7953"
            ],
            [
             0.7777777777777778,
             "#fb9f3a"
            ],
            [
             0.8888888888888888,
             "#fdca26"
            ],
            [
             1,
             "#f0f921"
            ]
           ]
          },
          "colorway": [
           "#636efa",
           "#EF553B",
           "#00cc96",
           "#ab63fa",
           "#FFA15A",
           "#19d3f3",
           "#FF6692",
           "#B6E880",
           "#FF97FF",
           "#FECB52"
          ],
          "font": {
           "color": "#2a3f5f"
          },
          "geo": {
           "bgcolor": "white",
           "lakecolor": "white",
           "landcolor": "#E5ECF6",
           "showlakes": true,
           "showland": true,
           "subunitcolor": "white"
          },
          "hoverlabel": {
           "align": "left"
          },
          "hovermode": "closest",
          "mapbox": {
           "style": "light"
          },
          "paper_bgcolor": "white",
          "plot_bgcolor": "#E5ECF6",
          "polar": {
           "angularaxis": {
            "gridcolor": "white",
            "linecolor": "white",
            "ticks": ""
           },
           "bgcolor": "#E5ECF6",
           "radialaxis": {
            "gridcolor": "white",
            "linecolor": "white",
            "ticks": ""
           }
          },
          "scene": {
           "xaxis": {
            "backgroundcolor": "#E5ECF6",
            "gridcolor": "white",
            "gridwidth": 2,
            "linecolor": "white",
            "showbackground": true,
            "ticks": "",
            "zerolinecolor": "white"
           },
           "yaxis": {
            "backgroundcolor": "#E5ECF6",
            "gridcolor": "white",
            "gridwidth": 2,
            "linecolor": "white",
            "showbackground": true,
            "ticks": "",
            "zerolinecolor": "white"
           },
           "zaxis": {
            "backgroundcolor": "#E5ECF6",
            "gridcolor": "white",
            "gridwidth": 2,
            "linecolor": "white",
            "showbackground": true,
            "ticks": "",
            "zerolinecolor": "white"
           }
          },
          "shapedefaults": {
           "line": {
            "color": "#2a3f5f"
           }
          },
          "ternary": {
           "aaxis": {
            "gridcolor": "white",
            "linecolor": "white",
            "ticks": ""
           },
           "baxis": {
            "gridcolor": "white",
            "linecolor": "white",
            "ticks": ""
           },
           "bgcolor": "#E5ECF6",
           "caxis": {
            "gridcolor": "white",
            "linecolor": "white",
            "ticks": ""
           }
          },
          "title": {
           "x": 0.05
          },
          "xaxis": {
           "automargin": true,
           "gridcolor": "white",
           "linecolor": "white",
           "ticks": "",
           "title": {
            "standoff": 15
           },
           "zerolinecolor": "white",
           "zerolinewidth": 2
          },
          "yaxis": {
           "automargin": true,
           "gridcolor": "white",
           "linecolor": "white",
           "ticks": "",
           "title": {
            "standoff": 15
           },
           "zerolinecolor": "white",
           "zerolinewidth": 2
          }
         }
        },
        "title": {
         "text": "Number of segments by IMD Decile"
        },
        "width": 800,
        "xaxis": {
         "anchor": "y",
         "autorange": true,
         "categoryorder": "total ascending",
         "domain": [
          0,
          1
         ],
         "range": [
          -0.5,
          9.5
         ],
         "title": {
          "text": "IMD Decile"
         },
         "type": "category"
        },
        "yaxis": {
         "anchor": "x",
         "autorange": true,
         "domain": [
          0,
          1
         ],
         "range": [
          0,
          749.4736842105264
         ],
         "title": {
          "text": "Number of Unique Segments"
         },
         "type": "linear"
        }
       }
      },
      "image/png": "[encoded data removed]",
      "text/html": [
       "<div>                            <div id=\"791de205-728b-4cd2-8229-5e5e4725c98f\" class=\"plotly-graph-div\" style=\"height:600px; width:800px;\"></div>            <script type=\"text/javascript\">                require([\"plotly\"], function(Plotly) {                    window.PLOTLYENV=window.PLOTLYENV || {};                                    if (document.getElementById(\"791de205-728b-4cd2-8229-5e5e4725c98f\")) {                    Plotly.newPlot(                        \"791de205-728b-4cd2-8229-5e5e4725c98f\",                        [{\"alignmentgroup\":\"True\",\"hovertemplate\":\"imd_decile=%{x}\\u003cbr\\u003esegment_id=%{text}\\u003cextra\\u003e\\u003c\\u002fextra\\u003e\",\"legendgroup\":\"\",\"marker\":{\"color\":\"#0179ff\",\"pattern\":{\"shape\":\"\"}},\"name\":\"\",\"offsetgroup\":\"\",\"orientation\":\"v\",\"showlegend\":false,\"text\":[529.0,654.0,552.0,559.0,565.0,411.0,712.0,586.0,664.0,690.0],\"textposition\":\"auto\",\"x\":[\"1\",\"10\",\"2\",\"3\",\"4\",\"5\",\"6\",\"7\",\"8\",\"9\"],\"xaxis\":\"x\",\"y\":[529,654,552,559,565,411,712,586,664,690],\"yaxis\":\"y\",\"type\":\"bar\",\"width\":0.7}],                        {\"template\":{\"data\":{\"histogram2dcontour\":[{\"type\":\"histogram2dcontour\",\"colorbar\":{\"outlinewidth\":0,\"ticks\":\"\"},\"colorscale\":[[0.0,\"#0d0887\"],[0.1111111111111111,\"#46039f\"],[0.2222222222222222,\"#7201a8\"],[0.3333333333333333,\"#9c179e\"],[0.4444444444444444,\"#bd3786\"],[0.5555555555555556,\"#d8576b\"],[0.6666666666666666,\"#ed7953\"],[0.7777777777777778,\"#fb9f3a\"],[0.8888888888888888,\"#fdca26\"],[1.0,\"#f0f921\"]]}],\"choropleth\":[{\"type\":\"choropleth\",\"colorbar\":{\"outlinewidth\":0,\"ticks\":\"\"}}],\"histogram2d\":[{\"type\":\"histogram2d\",\"colorbar\":{\"outlinewidth\":0,\"ticks\":\"\"},\"colorscale\":[[0.0,\"#0d0887\"],[0.1111111111111111,\"#46039f\"],[0.2222222222222222,\"#7201a8\"],[0.3333333333333333,\"#9c179e\"],[0.4444444444444444,\"#bd3786\"],[0.5555555555555556,\"#d8576b\"],[0.6666666666666666,\"#ed7953\"],[0.7777777777777778,\"#fb9f3a\"],[0.8888888888888888,\"#fdca26\"],[1.0,\"#f0f921\"]]}],\"heatmap\":[{\"type\":\"heatmap\",\"colorbar\":{\"outlinewidth\":0,\"ticks\":\"\"},\"colorscale\":[[0.0,\"#0d0887\"],[0.1111111111111111,\"#46039f\"],[0.2222222222222222,\"#7201a8\"],[0.3333333333333333,\"#9c179e\"],[0.4444444444444444,\"#bd3786\"],[0.5555555555555556,\"#d8576b\"],[0.6666666666666666,\"#ed7953\"],[0.7777777777777778,\"#fb9f3a\"],[0.8888888888888888,\"#fdca26\"],[1.0,\"#f0f921\"]]}],\"heatmapgl\":[{\"type\":\"heatmapgl\",\"colorbar\":{\"outlinewidth\":0,\"ticks\":\"\"},\"colorscale\":[[0.0,\"#0d0887\"],[0.1111111111111111,\"#46039f\"],[0.2222222222222222,\"#7201a8\"],[0.3333333333333333,\"#9c179e\"],[0.4444444444444444,\"#bd3786\"],[0.5555555555555556,\"#d8576b\"],[0.6666666666666666,\"#ed7953\"],[0.7777777777777778,\"#fb9f3a\"],[0.8888888888888888,\"#fdca26\"],[1.0,\"#f0f921\"]]}],\"contourcarpet\":[{\"type\":\"contourcarpet\",\"colorbar\":{\"outlinewidth\":0,\"ticks\":\"\"}}],\"contour\":[{\"type\":\"contour\",\"colorbar\":{\"outlinewidth\":0,\"ticks\":\"\"},\"colorscale\":[[0.0,\"#0d0887\"],[0.1111111111111111,\"#46039f\"],[0.2222222222222222,\"#7201a8\"],[0.3333333333333333,\"#9c179e\"],[0.4444444444444444,\"#bd3786\"],[0.5555555555555556,\"#d8576b\"],[0.6666666666666666,\"#ed7953\"],[0.7777777777777778,\"#fb9f3a\"],[0.8888888888888888,\"#fdca26\"],[1.0,\"#f0f921\"]]}],\"surface\":[{\"type\":\"surface\",\"colorbar\":{\"outlinewidth\":0,\"ticks\":\"\"},\"colorscale\":[[0.0,\"#0d0887\"],[0.1111111111111111,\"#46039f\"],[0.2222222222222222,\"#7201a8\"],[0.3333333333333333,\"#9c179e\"],[0.4444444444444444,\"#bd3786\"],[0.5555555555555556,\"#d8576b\"],[0.6666666666666666,\"#ed7953\"],[0.7777777777777778,\"#fb9f3a\"],[0.8888888888888888,\"#fdca26\"],[1.0,\"#f0f921\"]]}],\"mesh3d\":[{\"type\":\"mesh3d\",\"colorbar\":{\"outlinewidth\":0,\"ticks\":\"\"}}],\"scatter\":[{\"fillpattern\":{\"fillmode\":\"overlay\",\"size\":10,\"solidity\":0.2},\"type\":\"scatter\"}],\"parcoords\":[{\"type\":\"parcoords\",\"line\":{\"colorbar\":{\"outlinewidth\":0,\"ticks\":\"\"}}}],\"scatterpolargl\":[{\"type\":\"scatterpolargl\",\"marker\":{\"colorbar\":{\"outlinewidth\":0,\"ticks\":\"\"}}}],\"bar\":[{\"error_x\":{\"color\":\"#2a3f5f\"},\"error_y\":{\"color\":\"#2a3f5f\"},\"marker\":{\"line\":{\"color\":\"#E5ECF6\",\"width\":0.5},\"pattern\":{\"fillmode\":\"overlay\",\"size\":10,\"solidity\":0.2}},\"type\":\"bar\"}],\"scattergeo\":[{\"type\":\"scattergeo\",\"marker\":{\"colorbar\":{\"outlinewidth\":0,\"ticks\":\"\"}}}],\"scatterpolar\":[{\"type\":\"scatterpolar\",\"marker\":{\"colorbar\":{\"outlinewidth\":0,\"ticks\":\"\"}}}],\"histogram\":[{\"marker\":{\"pattern\":{\"fillmode\":\"overlay\",\"size\":10,\"solidity\":0.2}},\"type\":\"histogram\"}],\"scattergl\":[{\"type\":\"scattergl\",\"marker\":{\"colorbar\":{\"outlinewidth\":0,\"ticks\":\"\"}}}],\"scatter3d\":[{\"type\":\"scatter3d\",\"line\":{\"colorbar\":{\"outlinewidth\":0,\"ticks\":\"\"}},\"marker\":{\"colorbar\":{\"outlinewidth\":0,\"ticks\":\"\"}}}],\"scattermapbox\":[{\"type\":\"scattermapbox\",\"marker\":{\"colorbar\":{\"outlinewidth\":0,\"ticks\":\"\"}}}],\"scatterternary\":[{\"type\":\"scatterternary\",\"marker\":{\"colorbar\":{\"outlinewidth\":0,\"ticks\":\"\"}}}],\"scattercarpet\":[{\"type\":\"scattercarpet\",\"marker\":{\"colorbar\":{\"outlinewidth\":0,\"ticks\":\"\"}}}],\"carpet\":[{\"aaxis\":{\"endlinecolor\":\"#2a3f5f\",\"gridcolor\":\"white\",\"linecolor\":\"white\",\"minorgridcolor\":\"white\",\"startlinecolor\":\"#2a3f5f\"},\"baxis\":{\"endlinecolor\":\"#2a3f5f\",\"gridcolor\":\"white\",\"linecolor\":\"white\",\"minorgridcolor\":\"white\",\"startlinecolor\":\"#2a3f5f\"},\"type\":\"carpet\"}],\"table\":[{\"cells\":{\"fill\":{\"color\":\"#EBF0F8\"},\"line\":{\"color\":\"white\"}},\"header\":{\"fill\":{\"color\":\"#C8D4E3\"},\"line\":{\"color\":\"white\"}},\"type\":\"table\"}],\"barpolar\":[{\"marker\":{\"line\":{\"color\":\"#E5ECF6\",\"width\":0.5},\"pattern\":{\"fillmode\":\"overlay\",\"size\":10,\"solidity\":0.2}},\"type\":\"barpolar\"}],\"pie\":[{\"automargin\":true,\"type\":\"pie\"}]},\"layout\":{\"autotypenumbers\":\"strict\",\"colorway\":[\"#636efa\",\"#EF553B\",\"#00cc96\",\"#ab63fa\",\"#FFA15A\",\"#19d3f3\",\"#FF6692\",\"#B6E880\",\"#FF97FF\",\"#FECB52\"],\"font\":{\"color\":\"#2a3f5f\"},\"hovermode\":\"closest\",\"hoverlabel\":{\"align\":\"left\"},\"paper_bgcolor\":\"white\",\"plot_bgcolor\":\"#E5ECF6\",\"polar\":{\"bgcolor\":\"#E5ECF6\",\"angularaxis\":{\"gridcolor\":\"white\",\"linecolor\":\"white\",\"ticks\":\"\"},\"radialaxis\":{\"gridcolor\":\"white\",\"linecolor\":\"white\",\"ticks\":\"\"}},\"ternary\":{\"bgcolor\":\"#E5ECF6\",\"aaxis\":{\"gridcolor\":\"white\",\"linecolor\":\"white\",\"ticks\":\"\"},\"baxis\":{\"gridcolor\":\"white\",\"linecolor\":\"white\",\"ticks\":\"\"},\"caxis\":{\"gridcolor\":\"white\",\"linecolor\":\"white\",\"ticks\":\"\"}},\"coloraxis\":{\"colorbar\":{\"outlinewidth\":0,\"ticks\":\"\"}},\"colorscale\":{\"sequential\":[[0.0,\"#0d0887\"],[0.1111111111111111,\"#46039f\"],[0.2222222222222222,\"#7201a8\"],[0.3333333333333333,\"#9c179e\"],[0.4444444444444444,\"#bd3786\"],[0.5555555555555556,\"#d8576b\"],[0.6666666666666666,\"#ed7953\"],[0.7777777777777778,\"#fb9f3a\"],[0.8888888888888888,\"#fdca26\"],[1.0,\"#f0f921\"]],\"sequentialminus\":[[0.0,\"#0d0887\"],[0.1111111111111111,\"#46039f\"],[0.2222222222222222,\"#7201a8\"],[0.3333333333333333,\"#9c179e\"],[0.4444444444444444,\"#bd3786\"],[0.5555555555555556,\"#d8576b\"],[0.6666666666666666,\"#ed7953\"],[0.7777777777777778,\"#fb9f3a\"],[0.8888888888888888,\"#fdca26\"],[1.0,\"#f0f921\"]],\"diverging\":[[0,\"#8e0152\"],[0.1,\"#c51b7d\"],[0.2,\"#de77ae\"],[0.3,\"#f1b6da\"],[0.4,\"#fde0ef\"],[0.5,\"#f7f7f7\"],[0.6,\"#e6f5d0\"],[0.7,\"#b8e186\"],[0.8,\"#7fbc41\"],[0.9,\"#4d9221\"],[1,\"#276419\"]]},\"xaxis\":{\"gridcolor\":\"white\",\"linecolor\":\"white\",\"ticks\":\"\",\"title\":{\"standoff\":15},\"zerolinecolor\":\"white\",\"automargin\":true,\"zerolinewidth\":2},\"yaxis\":{\"gridcolor\":\"white\",\"linecolor\":\"white\",\"ticks\":\"\",\"title\":{\"standoff\":15},\"zerolinecolor\":\"white\",\"automargin\":true,\"zerolinewidth\":2},\"scene\":{\"xaxis\":{\"backgroundcolor\":\"#E5ECF6\",\"gridcolor\":\"white\",\"linecolor\":\"white\",\"showbackground\":true,\"ticks\":\"\",\"zerolinecolor\":\"white\",\"gridwidth\":2},\"yaxis\":{\"backgroundcolor\":\"#E5ECF6\",\"gridcolor\":\"white\",\"linecolor\":\"white\",\"showbackground\":true,\"ticks\":\"\",\"zerolinecolor\":\"white\",\"gridwidth\":2},\"zaxis\":{\"backgroundcolor\":\"#E5ECF6\",\"gridcolor\":\"white\",\"linecolor\":\"white\",\"showbackground\":true,\"ticks\":\"\",\"zerolinecolor\":\"white\",\"gridwidth\":2}},\"shapedefaults\":{\"line\":{\"color\":\"#2a3f5f\"}},\"annotationdefaults\":{\"arrowcolor\":\"#2a3f5f\",\"arrowhead\":0,\"arrowwidth\":1},\"geo\":{\"bgcolor\":\"white\",\"landcolor\":\"#E5ECF6\",\"subunitcolor\":\"white\",\"showland\":true,\"showlakes\":true,\"lakecolor\":\"white\"},\"title\":{\"x\":0.05},\"mapbox\":{\"style\":\"light\"}}},\"xaxis\":{\"anchor\":\"y\",\"domain\":[0.0,1.0],\"title\":{\"text\":\"IMD Decile\"},\"categoryorder\":\"total ascending\"},\"yaxis\":{\"anchor\":\"x\",\"domain\":[0.0,1.0],\"title\":{\"text\":\"Number of Unique Segments\"}},\"legend\":{\"tracegroupgap\":0},\"title\":{\"text\":\"Number of segments by IMD Decile\"},\"barmode\":\"relative\",\"height\":600,\"width\":800,\"shapes\":[{\"line\":{\"color\":\"#0040a3\",\"dash\":\"dot\",\"width\":2},\"type\":\"line\",\"x0\":0,\"x1\":1,\"xref\":\"x domain\",\"y0\":592.2,\"y1\":592.2,\"yref\":\"y\"}],\"annotations\":[{\"font\":{\"size\":14},\"showarrow\":false,\"text\":\"  Average: 592 segments\",\"x\":0,\"xanchor\":\"left\",\"xref\":\"x domain\",\"y\":592.2,\"yanchor\":\"bottom\",\"yref\":\"y\"}]},                        {\"responsive\": true}                    ).then(function(){\n",
       "                            \n",
       "var gd = document.getElementById('791de205-728b-4cd2-8229-5e5e4725c98f');\n",
       "var x = new MutationObserver(function (mutations, observer) {{\n",
       "        var display = window.getComputedStyle(gd).display;\n",
       "        if (!display || display === 'none') {{\n",
       "            console.log([gd, 'removed!']);\n",
       "            Plotly.purge(gd);\n",
       "            observer.disconnect();\n",
       "        }}\n",
       "}});\n",
       "\n",
       "// Listen for the removal of the full notebook cells\n",
       "var notebookContainer = gd.closest('#notebook-container');\n",
       "if (notebookContainer) {{\n",
       "    x.observe(notebookContainer, {childList: true});\n",
       "}}\n",
       "\n",
       "// Listen for the clearing of the current output cell\n",
       "var outputEl = gd.closest('.output');\n",
       "if (outputEl) {{\n",
       "    x.observe(outputEl, {childList: true});\n",
       "}}\n",
       "\n",
       "                        })                };                });            </script>        </div>"
      ]
     },
     "metadata": {},
     "output_type": "display_data"
    }
   ],
   "source": [
    "# Group by imd and count the number of unique segments in each group\n",
    "result = df.groupby(\"imd_decile\")[\"segment_id\"].nunique().reset_index()\n",
    "\n",
    "# Calculate the average count\n",
    "average_count = result[\"segment_id\"].mean()\n",
    "\n",
    "# Create the same plot using Plotly\n",
    "fig = px.bar(\n",
    "    result, \n",
    "    x=\"imd_decile\", y=\"segment_id\", \n",
    "    text=\"segment_id\", \n",
    "    title=\"Number of segments by IMD Decile\",\n",
    "    width=800, height=600,\n",
    ")\n",
    "\n",
    "fig.update_traces(marker_color=litterati_color, width=0.7)\n",
    "fig.add_hline(\n",
    "    y=average_count, \n",
    "    line_dash=\"dot\", line_color=litterati_colors[9], line_width=2, \n",
    "    annotation_text= f'  Average: {average_count:.0f} segments',\n",
    "    annotation_position=\"top left\", annotation_font_size=14,\n",
    ")\n",
    "fig.update_xaxes(categoryorder=\"total ascending\", title=\"IMD Decile\")\n",
    "fig.update_yaxes(title=\"Number of Unique Segments\")\n",
    "\n",
    "fig.show()\n"
   ]
  },
  {
   "cell_type": "code",
   "execution_count": 125,
   "id": "5885c9d7-d5a0-47b7-8bcf-dc875cc6e7e3",
   "metadata": {},
   "outputs": [
    {
     "data": {
      "application/vnd.plotly.v1+json": {
       "config": {
        "plotlyServerURL": "https://plot.ly"
       },
       "data": [
        {
         "alignmentgroup": "True",
         "hovertemplate": "imd_quintile=%{x}<br>segment_id=%{text}<extra></extra>",
         "legendgroup": "",
         "marker": {
          "color": "#0179ff",
          "pattern": {
           "shape": ""
          }
         },
         "name": "",
         "offsetgroup": "",
         "orientation": "v",
         "showlegend": false,
         "text": [
          1081,
          1124,
          1123,
          1250,
          1344
         ],
         "textposition": "auto",
         "type": "bar",
         "width": 0.7,
         "x": [
          "1",
          "2",
          "3",
          "4",
          "5"
         ],
         "xaxis": "x",
         "y": [
          1081,
          1124,
          1123,
          1250,
          1344
         ],
         "yaxis": "y"
        }
       ],
       "layout": {
        "annotations": [
         {
          "font": {
           "size": 14
          },
          "showarrow": false,
          "text": "  Average: 1184 segments",
          "x": 0,
          "xanchor": "left",
          "xref": "x domain",
          "y": 1184.4,
          "yanchor": "bottom",
          "yref": "y"
         }
        ],
        "barmode": "relative",
        "height": 600,
        "legend": {
         "tracegroupgap": 0
        },
        "shapes": [
         {
          "line": {
           "color": "#0040a3",
           "dash": "dot",
           "width": 2
          },
          "type": "line",
          "x0": 0,
          "x1": 1,
          "xref": "x domain",
          "y0": 1184.4,
          "y1": 1184.4,
          "yref": "y"
         }
        ],
        "template": {
         "data": {
          "bar": [
           {
            "error_x": {
             "color": "#2a3f5f"
            },
            "error_y": {
             "color": "#2a3f5f"
            },
            "marker": {
             "line": {
              "color": "#E5ECF6",
              "width": 0.5
             },
             "pattern": {
              "fillmode": "overlay",
              "size": 10,
              "solidity": 0.2
             }
            },
            "type": "bar"
           }
          ],
          "barpolar": [
           {
            "marker": {
             "line": {
              "color": "#E5ECF6",
              "width": 0.5
             },
             "pattern": {
              "fillmode": "overlay",
              "size": 10,
              "solidity": 0.2
             }
            },
            "type": "barpolar"
           }
          ],
          "carpet": [
           {
            "aaxis": {
             "endlinecolor": "#2a3f5f",
             "gridcolor": "white",
             "linecolor": "white",
             "minorgridcolor": "white",
             "startlinecolor": "#2a3f5f"
            },
            "baxis": {
             "endlinecolor": "#2a3f5f",
             "gridcolor": "white",
             "linecolor": "white",
             "minorgridcolor": "white",
             "startlinecolor": "#2a3f5f"
            },
            "type": "carpet"
           }
          ],
          "choropleth": [
           {
            "colorbar": {
             "outlinewidth": 0,
             "ticks": ""
            },
            "type": "choropleth"
           }
          ],
          "contour": [
           {
            "colorbar": {
             "outlinewidth": 0,
             "ticks": ""
            },
            "colorscale": [
             [
              0,
              "#0d0887"
             ],
             [
              0.1111111111111111,
              "#46039f"
             ],
             [
              0.2222222222222222,
              "#7201a8"
             ],
             [
              0.3333333333333333,
              "#9c179e"
             ],
             [
              0.4444444444444444,
              "#bd3786"
             ],
             [
              0.5555555555555556,
              "#d8576b"
             ],
             [
              0.6666666666666666,
              "#ed7953"
             ],
             [
              0.7777777777777778,
              "#fb9f3a"
             ],
             [
              0.8888888888888888,
              "#fdca26"
             ],
             [
              1,
              "#f0f921"
             ]
            ],
            "type": "contour"
           }
          ],
          "contourcarpet": [
           {
            "colorbar": {
             "outlinewidth": 0,
             "ticks": ""
            },
            "type": "contourcarpet"
           }
          ],
          "heatmap": [
           {
            "colorbar": {
             "outlinewidth": 0,
             "ticks": ""
            },
            "colorscale": [
             [
              0,
              "#0d0887"
             ],
             [
              0.1111111111111111,
              "#46039f"
             ],
             [
              0.2222222222222222,
              "#7201a8"
             ],
             [
              0.3333333333333333,
              "#9c179e"
             ],
             [
              0.4444444444444444,
              "#bd3786"
             ],
             [
              0.5555555555555556,
              "#d8576b"
             ],
             [
              0.6666666666666666,
              "#ed7953"
             ],
             [
              0.7777777777777778,
              "#fb9f3a"
             ],
             [
              0.8888888888888888,
              "#fdca26"
             ],
             [
              1,
              "#f0f921"
             ]
            ],
            "type": "heatmap"
           }
          ],
          "heatmapgl": [
           {
            "colorbar": {
             "outlinewidth": 0,
             "ticks": ""
            },
            "colorscale": [
             [
              0,
              "#0d0887"
             ],
             [
              0.1111111111111111,
              "#46039f"
             ],
             [
              0.2222222222222222,
              "#7201a8"
             ],
             [
              0.3333333333333333,
              "#9c179e"
             ],
             [
              0.4444444444444444,
              "#bd3786"
             ],
             [
              0.5555555555555556,
              "#d8576b"
             ],
             [
              0.6666666666666666,
              "#ed7953"
             ],
             [
              0.7777777777777778,
              "#fb9f3a"
             ],
             [
              0.8888888888888888,
              "#fdca26"
             ],
             [
              1,
              "#f0f921"
             ]
            ],
            "type": "heatmapgl"
           }
          ],
          "histogram": [
           {
            "marker": {
             "pattern": {
              "fillmode": "overlay",
              "size": 10,
              "solidity": 0.2
             }
            },
            "type": "histogram"
           }
          ],
          "histogram2d": [
           {
            "colorbar": {
             "outlinewidth": 0,
             "ticks": ""
            },
            "colorscale": [
             [
              0,
              "#0d0887"
             ],
             [
              0.1111111111111111,
              "#46039f"
             ],
             [
              0.2222222222222222,
              "#7201a8"
             ],
             [
              0.3333333333333333,
              "#9c179e"
             ],
             [
              0.4444444444444444,
              "#bd3786"
             ],
             [
              0.5555555555555556,
              "#d8576b"
             ],
             [
              0.6666666666666666,
              "#ed7953"
             ],
             [
              0.7777777777777778,
              "#fb9f3a"
             ],
             [
              0.8888888888888888,
              "#fdca26"
             ],
             [
              1,
              "#f0f921"
             ]
            ],
            "type": "histogram2d"
           }
          ],
          "histogram2dcontour": [
           {
            "colorbar": {
             "outlinewidth": 0,
             "ticks": ""
            },
            "colorscale": [
             [
              0,
              "#0d0887"
             ],
             [
              0.1111111111111111,
              "#46039f"
             ],
             [
              0.2222222222222222,
              "#7201a8"
             ],
             [
              0.3333333333333333,
              "#9c179e"
             ],
             [
              0.4444444444444444,
              "#bd3786"
             ],
             [
              0.5555555555555556,
              "#d8576b"
             ],
             [
              0.6666666666666666,
              "#ed7953"
             ],
             [
              0.7777777777777778,
              "#fb9f3a"
             ],
             [
              0.8888888888888888,
              "#fdca26"
             ],
             [
              1,
              "#f0f921"
             ]
            ],
            "type": "histogram2dcontour"
           }
          ],
          "mesh3d": [
           {
            "colorbar": {
             "outlinewidth": 0,
             "ticks": ""
            },
            "type": "mesh3d"
           }
          ],
          "parcoords": [
           {
            "line": {
             "colorbar": {
              "outlinewidth": 0,
              "ticks": ""
             }
            },
            "type": "parcoords"
           }
          ],
          "pie": [
           {
            "automargin": true,
            "type": "pie"
           }
          ],
          "scatter": [
           {
            "fillpattern": {
             "fillmode": "overlay",
             "size": 10,
             "solidity": 0.2
            },
            "type": "scatter"
           }
          ],
          "scatter3d": [
           {
            "line": {
             "colorbar": {
              "outlinewidth": 0,
              "ticks": ""
             }
            },
            "marker": {
             "colorbar": {
              "outlinewidth": 0,
              "ticks": ""
             }
            },
            "type": "scatter3d"
           }
          ],
          "scattercarpet": [
           {
            "marker": {
             "colorbar": {
              "outlinewidth": 0,
              "ticks": ""
             }
            },
            "type": "scattercarpet"
           }
          ],
          "scattergeo": [
           {
            "marker": {
             "colorbar": {
              "outlinewidth": 0,
              "ticks": ""
             }
            },
            "type": "scattergeo"
           }
          ],
          "scattergl": [
           {
            "marker": {
             "colorbar": {
              "outlinewidth": 0,
              "ticks": ""
             }
            },
            "type": "scattergl"
           }
          ],
          "scattermapbox": [
           {
            "marker": {
             "colorbar": {
              "outlinewidth": 0,
              "ticks": ""
             }
            },
            "type": "scattermapbox"
           }
          ],
          "scatterpolar": [
           {
            "marker": {
             "colorbar": {
              "outlinewidth": 0,
              "ticks": ""
             }
            },
            "type": "scatterpolar"
           }
          ],
          "scatterpolargl": [
           {
            "marker": {
             "colorbar": {
              "outlinewidth": 0,
              "ticks": ""
             }
            },
            "type": "scatterpolargl"
           }
          ],
          "scatterternary": [
           {
            "marker": {
             "colorbar": {
              "outlinewidth": 0,
              "ticks": ""
             }
            },
            "type": "scatterternary"
           }
          ],
          "surface": [
           {
            "colorbar": {
             "outlinewidth": 0,
             "ticks": ""
            },
            "colorscale": [
             [
              0,
              "#0d0887"
             ],
             [
              0.1111111111111111,
              "#46039f"
             ],
             [
              0.2222222222222222,
              "#7201a8"
             ],
             [
              0.3333333333333333,
              "#9c179e"
             ],
             [
              0.4444444444444444,
              "#bd3786"
             ],
             [
              0.5555555555555556,
              "#d8576b"
             ],
             [
              0.6666666666666666,
              "#ed7953"
             ],
             [
              0.7777777777777778,
              "#fb9f3a"
             ],
             [
              0.8888888888888888,
              "#fdca26"
             ],
             [
              1,
              "#f0f921"
             ]
            ],
            "type": "surface"
           }
          ],
          "table": [
           {
            "cells": {
             "fill": {
              "color": "#EBF0F8"
             },
             "line": {
              "color": "white"
             }
            },
            "header": {
             "fill": {
              "color": "#C8D4E3"
             },
             "line": {
              "color": "white"
             }
            },
            "type": "table"
           }
          ]
         },
         "layout": {
          "annotationdefaults": {
           "arrowcolor": "#2a3f5f",
           "arrowhead": 0,
           "arrowwidth": 1
          },
          "autotypenumbers": "strict",
          "coloraxis": {
           "colorbar": {
            "outlinewidth": 0,
            "ticks": ""
           }
          },
          "colorscale": {
           "diverging": [
            [
             0,
             "#8e0152"
            ],
            [
             0.1,
             "#c51b7d"
            ],
            [
             0.2,
             "#de77ae"
            ],
            [
             0.3,
             "#f1b6da"
            ],
            [
             0.4,
             "#fde0ef"
            ],
            [
             0.5,
             "#f7f7f7"
            ],
            [
             0.6,
             "#e6f5d0"
            ],
            [
             0.7,
             "#b8e186"
            ],
            [
             0.8,
             "#7fbc41"
            ],
            [
             0.9,
             "#4d9221"
            ],
            [
             1,
             "#276419"
            ]
           ],
           "sequential": [
            [
             0,
             "#0d0887"
            ],
            [
             0.1111111111111111,
             "#46039f"
            ],
            [
             0.2222222222222222,
             "#7201a8"
            ],
            [
             0.3333333333333333,
             "#9c179e"
            ],
            [
             0.4444444444444444,
             "#bd3786"
            ],
            [
             0.5555555555555556,
             "#d8576b"
            ],
            [
             0.6666666666666666,
             "#ed7953"
            ],
            [
             0.7777777777777778,
             "#fb9f3a"
            ],
            [
             0.8888888888888888,
             "#fdca26"
            ],
            [
             1,
             "#f0f921"
            ]
           ],
           "sequentialminus": [
            [
             0,
             "#0d0887"
            ],
            [
             0.1111111111111111,
             "#46039f"
            ],
            [
             0.2222222222222222,
             "#7201a8"
            ],
            [
             0.3333333333333333,
             "#9c179e"
            ],
            [
             0.4444444444444444,
             "#bd3786"
            ],
            [
             0.5555555555555556,
             "#d8576b"
            ],
            [
             0.6666666666666666,
             "#ed7953"
            ],
            [
             0.7777777777777778,
             "#fb9f3a"
            ],
            [
             0.8888888888888888,
             "#fdca26"
            ],
            [
             1,
             "#f0f921"
            ]
           ]
          },
          "colorway": [
           "#636efa",
           "#EF553B",
           "#00cc96",
           "#ab63fa",
           "#FFA15A",
           "#19d3f3",
           "#FF6692",
           "#B6E880",
           "#FF97FF",
           "#FECB52"
          ],
          "font": {
           "color": "#2a3f5f"
          },
          "geo": {
           "bgcolor": "white",
           "lakecolor": "white",
           "landcolor": "#E5ECF6",
           "showlakes": true,
           "showland": true,
           "subunitcolor": "white"
          },
          "hoverlabel": {
           "align": "left"
          },
          "hovermode": "closest",
          "mapbox": {
           "style": "light"
          },
          "paper_bgcolor": "white",
          "plot_bgcolor": "#E5ECF6",
          "polar": {
           "angularaxis": {
            "gridcolor": "white",
            "linecolor": "white",
            "ticks": ""
           },
           "bgcolor": "#E5ECF6",
           "radialaxis": {
            "gridcolor": "white",
            "linecolor": "white",
            "ticks": ""
           }
          },
          "scene": {
           "xaxis": {
            "backgroundcolor": "#E5ECF6",
            "gridcolor": "white",
            "gridwidth": 2,
            "linecolor": "white",
            "showbackground": true,
            "ticks": "",
            "zerolinecolor": "white"
           },
           "yaxis": {
            "backgroundcolor": "#E5ECF6",
            "gridcolor": "white",
            "gridwidth": 2,
            "linecolor": "white",
            "showbackground": true,
            "ticks": "",
            "zerolinecolor": "white"
           },
           "zaxis": {
            "backgroundcolor": "#E5ECF6",
            "gridcolor": "white",
            "gridwidth": 2,
            "linecolor": "white",
            "showbackground": true,
            "ticks": "",
            "zerolinecolor": "white"
           }
          },
          "shapedefaults": {
           "line": {
            "color": "#2a3f5f"
           }
          },
          "ternary": {
           "aaxis": {
            "gridcolor": "white",
            "linecolor": "white",
            "ticks": ""
           },
           "baxis": {
            "gridcolor": "white",
            "linecolor": "white",
            "ticks": ""
           },
           "bgcolor": "#E5ECF6",
           "caxis": {
            "gridcolor": "white",
            "linecolor": "white",
            "ticks": ""
           }
          },
          "title": {
           "x": 0.05
          },
          "xaxis": {
           "automargin": true,
           "gridcolor": "white",
           "linecolor": "white",
           "ticks": "",
           "title": {
            "standoff": 15
           },
           "zerolinecolor": "white",
           "zerolinewidth": 2
          },
          "yaxis": {
           "automargin": true,
           "gridcolor": "white",
           "linecolor": "white",
           "ticks": "",
           "title": {
            "standoff": 15
           },
           "zerolinecolor": "white",
           "zerolinewidth": 2
          }
         }
        },
        "title": {
         "text": "Number of segments by IMD Quintile"
        },
        "width": 800,
        "xaxis": {
         "anchor": "y",
         "autorange": true,
         "categoryorder": "total ascending",
         "domain": [
          0,
          1
         ],
         "range": [
          -0.5,
          4.5
         ],
         "title": {
          "text": "IMD Quintile"
         },
         "type": "category"
        },
        "yaxis": {
         "anchor": "x",
         "autorange": true,
         "domain": [
          0,
          1
         ],
         "range": [
          0,
          1414.7368421052631
         ],
         "title": {
          "text": "Number of Unique Segments"
         },
         "type": "linear"
        }
       }
      },
      "image/png": "[encoded data removed]",
      "text/html": [
       "<div>                            <div id=\"d4b090b7-498a-4897-8193-033f6d4f149e\" class=\"plotly-graph-div\" style=\"height:600px; width:800px;\"></div>            <script type=\"text/javascript\">                require([\"plotly\"], function(Plotly) {                    window.PLOTLYENV=window.PLOTLYENV || {};                                    if (document.getElementById(\"d4b090b7-498a-4897-8193-033f6d4f149e\")) {                    Plotly.newPlot(                        \"d4b090b7-498a-4897-8193-033f6d4f149e\",                        [{\"alignmentgroup\":\"True\",\"hovertemplate\":\"imd_quintile=%{x}\\u003cbr\\u003esegment_id=%{text}\\u003cextra\\u003e\\u003c\\u002fextra\\u003e\",\"legendgroup\":\"\",\"marker\":{\"color\":\"#0179ff\",\"pattern\":{\"shape\":\"\"}},\"name\":\"\",\"offsetgroup\":\"\",\"orientation\":\"v\",\"showlegend\":false,\"text\":[1081.0,1124.0,1123.0,1250.0,1344.0],\"textposition\":\"auto\",\"x\":[\"1\",\"2\",\"3\",\"4\",\"5\"],\"xaxis\":\"x\",\"y\":[1081,1124,1123,1250,1344],\"yaxis\":\"y\",\"type\":\"bar\",\"width\":0.7}],                        {\"template\":{\"data\":{\"histogram2dcontour\":[{\"type\":\"histogram2dcontour\",\"colorbar\":{\"outlinewidth\":0,\"ticks\":\"\"},\"colorscale\":[[0.0,\"#0d0887\"],[0.1111111111111111,\"#46039f\"],[0.2222222222222222,\"#7201a8\"],[0.3333333333333333,\"#9c179e\"],[0.4444444444444444,\"#bd3786\"],[0.5555555555555556,\"#d8576b\"],[0.6666666666666666,\"#ed7953\"],[0.7777777777777778,\"#fb9f3a\"],[0.8888888888888888,\"#fdca26\"],[1.0,\"#f0f921\"]]}],\"choropleth\":[{\"type\":\"choropleth\",\"colorbar\":{\"outlinewidth\":0,\"ticks\":\"\"}}],\"histogram2d\":[{\"type\":\"histogram2d\",\"colorbar\":{\"outlinewidth\":0,\"ticks\":\"\"},\"colorscale\":[[0.0,\"#0d0887\"],[0.1111111111111111,\"#46039f\"],[0.2222222222222222,\"#7201a8\"],[0.3333333333333333,\"#9c179e\"],[0.4444444444444444,\"#bd3786\"],[0.5555555555555556,\"#d8576b\"],[0.6666666666666666,\"#ed7953\"],[0.7777777777777778,\"#fb9f3a\"],[0.8888888888888888,\"#fdca26\"],[1.0,\"#f0f921\"]]}],\"heatmap\":[{\"type\":\"heatmap\",\"colorbar\":{\"outlinewidth\":0,\"ticks\":\"\"},\"colorscale\":[[0.0,\"#0d0887\"],[0.1111111111111111,\"#46039f\"],[0.2222222222222222,\"#7201a8\"],[0.3333333333333333,\"#9c179e\"],[0.4444444444444444,\"#bd3786\"],[0.5555555555555556,\"#d8576b\"],[0.6666666666666666,\"#ed7953\"],[0.7777777777777778,\"#fb9f3a\"],[0.8888888888888888,\"#fdca26\"],[1.0,\"#f0f921\"]]}],\"heatmapgl\":[{\"type\":\"heatmapgl\",\"colorbar\":{\"outlinewidth\":0,\"ticks\":\"\"},\"colorscale\":[[0.0,\"#0d0887\"],[0.1111111111111111,\"#46039f\"],[0.2222222222222222,\"#7201a8\"],[0.3333333333333333,\"#9c179e\"],[0.4444444444444444,\"#bd3786\"],[0.5555555555555556,\"#d8576b\"],[0.6666666666666666,\"#ed7953\"],[0.7777777777777778,\"#fb9f3a\"],[0.8888888888888888,\"#fdca26\"],[1.0,\"#f0f921\"]]}],\"contourcarpet\":[{\"type\":\"contourcarpet\",\"colorbar\":{\"outlinewidth\":0,\"ticks\":\"\"}}],\"contour\":[{\"type\":\"contour\",\"colorbar\":{\"outlinewidth\":0,\"ticks\":\"\"},\"colorscale\":[[0.0,\"#0d0887\"],[0.1111111111111111,\"#46039f\"],[0.2222222222222222,\"#7201a8\"],[0.3333333333333333,\"#9c179e\"],[0.4444444444444444,\"#bd3786\"],[0.5555555555555556,\"#d8576b\"],[0.6666666666666666,\"#ed7953\"],[0.7777777777777778,\"#fb9f3a\"],[0.8888888888888888,\"#fdca26\"],[1.0,\"#f0f921\"]]}],\"surface\":[{\"type\":\"surface\",\"colorbar\":{\"outlinewidth\":0,\"ticks\":\"\"},\"colorscale\":[[0.0,\"#0d0887\"],[0.1111111111111111,\"#46039f\"],[0.2222222222222222,\"#7201a8\"],[0.3333333333333333,\"#9c179e\"],[0.4444444444444444,\"#bd3786\"],[0.5555555555555556,\"#d8576b\"],[0.6666666666666666,\"#ed7953\"],[0.7777777777777778,\"#fb9f3a\"],[0.8888888888888888,\"#fdca26\"],[1.0,\"#f0f921\"]]}],\"mesh3d\":[{\"type\":\"mesh3d\",\"colorbar\":{\"outlinewidth\":0,\"ticks\":\"\"}}],\"scatter\":[{\"fillpattern\":{\"fillmode\":\"overlay\",\"size\":10,\"solidity\":0.2},\"type\":\"scatter\"}],\"parcoords\":[{\"type\":\"parcoords\",\"line\":{\"colorbar\":{\"outlinewidth\":0,\"ticks\":\"\"}}}],\"scatterpolargl\":[{\"type\":\"scatterpolargl\",\"marker\":{\"colorbar\":{\"outlinewidth\":0,\"ticks\":\"\"}}}],\"bar\":[{\"error_x\":{\"color\":\"#2a3f5f\"},\"error_y\":{\"color\":\"#2a3f5f\"},\"marker\":{\"line\":{\"color\":\"#E5ECF6\",\"width\":0.5},\"pattern\":{\"fillmode\":\"overlay\",\"size\":10,\"solidity\":0.2}},\"type\":\"bar\"}],\"scattergeo\":[{\"type\":\"scattergeo\",\"marker\":{\"colorbar\":{\"outlinewidth\":0,\"ticks\":\"\"}}}],\"scatterpolar\":[{\"type\":\"scatterpolar\",\"marker\":{\"colorbar\":{\"outlinewidth\":0,\"ticks\":\"\"}}}],\"histogram\":[{\"marker\":{\"pattern\":{\"fillmode\":\"overlay\",\"size\":10,\"solidity\":0.2}},\"type\":\"histogram\"}],\"scattergl\":[{\"type\":\"scattergl\",\"marker\":{\"colorbar\":{\"outlinewidth\":0,\"ticks\":\"\"}}}],\"scatter3d\":[{\"type\":\"scatter3d\",\"line\":{\"colorbar\":{\"outlinewidth\":0,\"ticks\":\"\"}},\"marker\":{\"colorbar\":{\"outlinewidth\":0,\"ticks\":\"\"}}}],\"scattermapbox\":[{\"type\":\"scattermapbox\",\"marker\":{\"colorbar\":{\"outlinewidth\":0,\"ticks\":\"\"}}}],\"scatterternary\":[{\"type\":\"scatterternary\",\"marker\":{\"colorbar\":{\"outlinewidth\":0,\"ticks\":\"\"}}}],\"scattercarpet\":[{\"type\":\"scattercarpet\",\"marker\":{\"colorbar\":{\"outlinewidth\":0,\"ticks\":\"\"}}}],\"carpet\":[{\"aaxis\":{\"endlinecolor\":\"#2a3f5f\",\"gridcolor\":\"white\",\"linecolor\":\"white\",\"minorgridcolor\":\"white\",\"startlinecolor\":\"#2a3f5f\"},\"baxis\":{\"endlinecolor\":\"#2a3f5f\",\"gridcolor\":\"white\",\"linecolor\":\"white\",\"minorgridcolor\":\"white\",\"startlinecolor\":\"#2a3f5f\"},\"type\":\"carpet\"}],\"table\":[{\"cells\":{\"fill\":{\"color\":\"#EBF0F8\"},\"line\":{\"color\":\"white\"}},\"header\":{\"fill\":{\"color\":\"#C8D4E3\"},\"line\":{\"color\":\"white\"}},\"type\":\"table\"}],\"barpolar\":[{\"marker\":{\"line\":{\"color\":\"#E5ECF6\",\"width\":0.5},\"pattern\":{\"fillmode\":\"overlay\",\"size\":10,\"solidity\":0.2}},\"type\":\"barpolar\"}],\"pie\":[{\"automargin\":true,\"type\":\"pie\"}]},\"layout\":{\"autotypenumbers\":\"strict\",\"colorway\":[\"#636efa\",\"#EF553B\",\"#00cc96\",\"#ab63fa\",\"#FFA15A\",\"#19d3f3\",\"#FF6692\",\"#B6E880\",\"#FF97FF\",\"#FECB52\"],\"font\":{\"color\":\"#2a3f5f\"},\"hovermode\":\"closest\",\"hoverlabel\":{\"align\":\"left\"},\"paper_bgcolor\":\"white\",\"plot_bgcolor\":\"#E5ECF6\",\"polar\":{\"bgcolor\":\"#E5ECF6\",\"angularaxis\":{\"gridcolor\":\"white\",\"linecolor\":\"white\",\"ticks\":\"\"},\"radialaxis\":{\"gridcolor\":\"white\",\"linecolor\":\"white\",\"ticks\":\"\"}},\"ternary\":{\"bgcolor\":\"#E5ECF6\",\"aaxis\":{\"gridcolor\":\"white\",\"linecolor\":\"white\",\"ticks\":\"\"},\"baxis\":{\"gridcolor\":\"white\",\"linecolor\":\"white\",\"ticks\":\"\"},\"caxis\":{\"gridcolor\":\"white\",\"linecolor\":\"white\",\"ticks\":\"\"}},\"coloraxis\":{\"colorbar\":{\"outlinewidth\":0,\"ticks\":\"\"}},\"colorscale\":{\"sequential\":[[0.0,\"#0d0887\"],[0.1111111111111111,\"#46039f\"],[0.2222222222222222,\"#7201a8\"],[0.3333333333333333,\"#9c179e\"],[0.4444444444444444,\"#bd3786\"],[0.5555555555555556,\"#d8576b\"],[0.6666666666666666,\"#ed7953\"],[0.7777777777777778,\"#fb9f3a\"],[0.8888888888888888,\"#fdca26\"],[1.0,\"#f0f921\"]],\"sequentialminus\":[[0.0,\"#0d0887\"],[0.1111111111111111,\"#46039f\"],[0.2222222222222222,\"#7201a8\"],[0.3333333333333333,\"#9c179e\"],[0.4444444444444444,\"#bd3786\"],[0.5555555555555556,\"#d8576b\"],[0.6666666666666666,\"#ed7953\"],[0.7777777777777778,\"#fb9f3a\"],[0.8888888888888888,\"#fdca26\"],[1.0,\"#f0f921\"]],\"diverging\":[[0,\"#8e0152\"],[0.1,\"#c51b7d\"],[0.2,\"#de77ae\"],[0.3,\"#f1b6da\"],[0.4,\"#fde0ef\"],[0.5,\"#f7f7f7\"],[0.6,\"#e6f5d0\"],[0.7,\"#b8e186\"],[0.8,\"#7fbc41\"],[0.9,\"#4d9221\"],[1,\"#276419\"]]},\"xaxis\":{\"gridcolor\":\"white\",\"linecolor\":\"white\",\"ticks\":\"\",\"title\":{\"standoff\":15},\"zerolinecolor\":\"white\",\"automargin\":true,\"zerolinewidth\":2},\"yaxis\":{\"gridcolor\":\"white\",\"linecolor\":\"white\",\"ticks\":\"\",\"title\":{\"standoff\":15},\"zerolinecolor\":\"white\",\"automargin\":true,\"zerolinewidth\":2},\"scene\":{\"xaxis\":{\"backgroundcolor\":\"#E5ECF6\",\"gridcolor\":\"white\",\"linecolor\":\"white\",\"showbackground\":true,\"ticks\":\"\",\"zerolinecolor\":\"white\",\"gridwidth\":2},\"yaxis\":{\"backgroundcolor\":\"#E5ECF6\",\"gridcolor\":\"white\",\"linecolor\":\"white\",\"showbackground\":true,\"ticks\":\"\",\"zerolinecolor\":\"white\",\"gridwidth\":2},\"zaxis\":{\"backgroundcolor\":\"#E5ECF6\",\"gridcolor\":\"white\",\"linecolor\":\"white\",\"showbackground\":true,\"ticks\":\"\",\"zerolinecolor\":\"white\",\"gridwidth\":2}},\"shapedefaults\":{\"line\":{\"color\":\"#2a3f5f\"}},\"annotationdefaults\":{\"arrowcolor\":\"#2a3f5f\",\"arrowhead\":0,\"arrowwidth\":1},\"geo\":{\"bgcolor\":\"white\",\"landcolor\":\"#E5ECF6\",\"subunitcolor\":\"white\",\"showland\":true,\"showlakes\":true,\"lakecolor\":\"white\"},\"title\":{\"x\":0.05},\"mapbox\":{\"style\":\"light\"}}},\"xaxis\":{\"anchor\":\"y\",\"domain\":[0.0,1.0],\"title\":{\"text\":\"IMD Quintile\"},\"categoryorder\":\"total ascending\"},\"yaxis\":{\"anchor\":\"x\",\"domain\":[0.0,1.0],\"title\":{\"text\":\"Number of Unique Segments\"}},\"legend\":{\"tracegroupgap\":0},\"title\":{\"text\":\"Number of segments by IMD Quintile\"},\"barmode\":\"relative\",\"height\":600,\"width\":800,\"shapes\":[{\"line\":{\"color\":\"#0040a3\",\"dash\":\"dot\",\"width\":2},\"type\":\"line\",\"x0\":0,\"x1\":1,\"xref\":\"x domain\",\"y0\":1184.4,\"y1\":1184.4,\"yref\":\"y\"}],\"annotations\":[{\"font\":{\"size\":14},\"showarrow\":false,\"text\":\"  Average: 1184 segments\",\"x\":0,\"xanchor\":\"left\",\"xref\":\"x domain\",\"y\":1184.4,\"yanchor\":\"bottom\",\"yref\":\"y\"}]},                        {\"responsive\": true}                    ).then(function(){\n",
       "                            \n",
       "var gd = document.getElementById('d4b090b7-498a-4897-8193-033f6d4f149e');\n",
       "var x = new MutationObserver(function (mutations, observer) {{\n",
       "        var display = window.getComputedStyle(gd).display;\n",
       "        if (!display || display === 'none') {{\n",
       "            console.log([gd, 'removed!']);\n",
       "            Plotly.purge(gd);\n",
       "            observer.disconnect();\n",
       "        }}\n",
       "}});\n",
       "\n",
       "// Listen for the removal of the full notebook cells\n",
       "var notebookContainer = gd.closest('#notebook-container');\n",
       "if (notebookContainer) {{\n",
       "    x.observe(notebookContainer, {childList: true});\n",
       "}}\n",
       "\n",
       "// Listen for the clearing of the current output cell\n",
       "var outputEl = gd.closest('.output');\n",
       "if (outputEl) {{\n",
       "    x.observe(outputEl, {childList: true});\n",
       "}}\n",
       "\n",
       "                        })                };                });            </script>        </div>"
      ]
     },
     "metadata": {},
     "output_type": "display_data"
    }
   ],
   "source": [
    "\n",
    "# Group by \"imd_quintile\" and count the number of unique segments in each group\n",
    "result = df.groupby(\"imd_quintile\")[\"segment_id\"].nunique().reset_index()\n",
    "\n",
    "# Calculate the average count\n",
    "average_count = result[\"segment_id\"].mean()\n",
    "\n",
    "# Create the same plot using Plotly\n",
    "fig = px.bar(\n",
    "    result, \n",
    "    x=\"imd_quintile\", y=\"segment_id\", \n",
    "    text=\"segment_id\", \n",
    "    title=\"Number of segments by IMD Quintile\",\n",
    "    width=800, height=600,\n",
    ")\n",
    "\n",
    "fig.update_traces(marker_color=litterati_color, width=0.7)\n",
    "fig.add_hline(\n",
    "    y=average_count, \n",
    "    line_dash=\"dot\", line_color=litterati_colors[9], line_width=2, \n",
    "    annotation_text= f'  Average: {average_count:.0f} segments',\n",
    "    annotation_position=\"top left\", annotation_font_size=14,\n",
    ")\n",
    "fig.update_xaxes(categoryorder=\"total ascending\", title=\"IMD Quintile\")\n",
    "fig.update_yaxes(title=\"Number of Unique Segments\")\n",
    "\n",
    "fig.show()\n"
   ]
  },
  {
   "cell_type": "markdown",
   "id": "c934e158-f8d2-49bd-b6be-95298efcbe08",
   "metadata": {},
   "source": [
    "## Save to disc"
   ]
  },
  {
   "cell_type": "code",
   "execution_count": 128,
   "id": "61a405d2-9f65-41db-a0e3-8335d1396c08",
   "metadata": {},
   "outputs": [
    {
     "name": "stdout",
     "output_type": "stream",
     "text": [
      "region_litter_count.png\n",
      "region_count_nosrl.png\n",
      "region_count_food.png\n",
      "region_count_drink.png\n",
      "region_count_fastfood.png\n",
      "region_count_all_cups.png\n",
      "region_count_wrapper.png\n",
      "region_count_bottles_and_cans.png\n",
      "region_count_bottle.png\n",
      "region_count_can.png\n",
      "urban_rural_class_litter_count.png\n",
      "urban_rural_class_count_nosrl.png\n",
      "urban_rural_class_count_food.png\n",
      "urban_rural_class_count_drink.png\n",
      "urban_rural_class_count_fastfood.png\n",
      "urban_rural_class_count_all_cups.png\n",
      "urban_rural_class_count_wrapper.png\n",
      "urban_rural_class_count_bottles_and_cans.png\n",
      "urban_rural_class_count_bottle.png\n",
      "urban_rural_class_count_can.png\n",
      "land_use_litter_count.png\n",
      "land_use_count_nosrl.png\n",
      "land_use_count_food.png\n",
      "land_use_count_drink.png\n",
      "land_use_count_fastfood.png\n",
      "land_use_count_all_cups.png\n",
      "land_use_count_wrapper.png\n",
      "land_use_count_bottles_and_cans.png\n",
      "land_use_count_bottle.png\n",
      "land_use_count_can.png\n",
      "imd_quintile_litter_count.png\n",
      "imd_quintile_count_nosrl.png\n",
      "imd_quintile_count_food.png\n",
      "imd_quintile_count_drink.png\n",
      "imd_quintile_count_fastfood.png\n",
      "imd_quintile_count_all_cups.png\n",
      "imd_quintile_count_wrapper.png\n",
      "imd_quintile_count_bottles_and_cans.png\n",
      "imd_quintile_count_bottle.png\n",
      "imd_quintile_count_can.png\n",
      "imd_decile_litter_count.png\n",
      "imd_decile_count_nosrl.png\n",
      "imd_decile_count_food.png\n",
      "imd_decile_count_drink.png\n",
      "imd_decile_count_fastfood.png\n",
      "imd_decile_count_all_cups.png\n",
      "imd_decile_count_wrapper.png\n",
      "imd_decile_count_bottles_and_cans.png\n",
      "imd_decile_count_bottle.png\n",
      "imd_decile_count_can.png\n",
      "urban_rural_desc_litter_count.png\n",
      "urban_rural_desc_count_nosrl.png\n",
      "urban_rural_desc_count_food.png\n",
      "urban_rural_desc_count_drink.png\n",
      "urban_rural_desc_count_fastfood.png\n",
      "urban_rural_desc_count_all_cups.png\n",
      "urban_rural_desc_count_wrapper.png\n",
      "urban_rural_desc_count_bottles_and_cans.png\n",
      "urban_rural_desc_count_bottle.png\n",
      "urban_rural_desc_count_can.png\n"
     ]
    }
   ],
   "source": [
    "# Define the output directory where you want to save the PNG files\n",
    "output_directory = 'bar_charts'\n",
    "os.makedirs(output_directory, exist_ok=True)\n",
    "\n",
    "# Iterate through all combinations of group_column and count_column\n",
    "for group_column in group_cols:\n",
    "    for count_column in count_cols:\n",
    "        # Create the LPM DataFrame\n",
    "        lpm_group_df = compute_lpm(df, group_column, count_column)\n",
    "\n",
    "        # Plot the LPM\n",
    "        fig = plot_lpm(lpm_group_df, group_column, count_column)\n",
    "\n",
    "        # Define the output file path\n",
    "        image_name = f'{group_column}_{count_column}.png'\n",
    "        output_file_path = os.path.join(output_directory, image_name)\n",
    "\n",
    "        # Save the plot as a PNG file\n",
    "        print (image_name)\n",
    "        fig.write_image(output_file_path)\n"
   ]
  },
  {
   "cell_type": "markdown",
   "id": "b511e648-ea62-4230-b064-655aa409ed91",
   "metadata": {},
   "source": [
    "## Average LPM"
   ]
  },
  {
   "cell_type": "code",
   "execution_count": 134,
   "id": "dde22162-b88f-4c53-97ae-73d7194746ba",
   "metadata": {},
   "outputs": [
    {
     "data": {
      "text/plain": [
       "['litter_count',\n",
       " 'count_nosrl',\n",
       " 'count_food',\n",
       " 'count_drink',\n",
       " 'count_fastfood',\n",
       " 'count_all_cups',\n",
       " 'count_wrapper',\n",
       " 'count_bottles_and_cans',\n",
       " 'count_bottle',\n",
       " 'count_can']"
      ]
     },
     "execution_count": 134,
     "metadata": {},
     "output_type": "execute_result"
    }
   ],
   "source": [
    "count_cols"
   ]
  },
  {
   "cell_type": "code",
   "execution_count": 130,
   "id": "8d601ab0-e259-44f5-a8a7-7d727884536d",
   "metadata": {},
   "outputs": [
    {
     "name": "stdout",
     "output_type": "stream",
     "text": [
      "Total litter objects in survey locations:  88019\n",
      "Total road distance surveyed (in meters):  343889.69999999995\n",
      "Brute average LPM:  0.25595125413759123\n"
     ]
    }
   ],
   "source": [
    "# all litter \n",
    "\n",
    "print(\"Total litter objects in survey locations: \", df.litter_count.sum())\n",
    "\n",
    "print(\"Total road distance surveyed (in meters): \", df.segment_length.sum())\n",
    "\n",
    "print(\"Brute average LPM: \", df.litter_count.sum() / df.segment_length.sum())"
   ]
  },
  {
   "cell_type": "code",
   "execution_count": 137,
   "id": "1a5e78e0-785f-4176-ab8c-dea259c54e86",
   "metadata": {},
   "outputs": [
    {
     "name": "stdout",
     "output_type": "stream",
     "text": [
      "Doing the same for all counts.\n",
      "Brute LPM for Total Litter:  0.256\n",
      "Brute LPM for Non Smoking Related Litter:  0.148\n",
      "Brute LPM for Food Litter:  0.032\n",
      "Brute LPM for Drink Litter:  0.057\n",
      "Brute LPM for Fast Food Litter:  0.003\n",
      "Brute LPM for All cups:  0.004\n",
      "Brute LPM for Wrappers:  0.026\n",
      "Brute LPM for Bottles and Cans:  0.023\n",
      "Brute LPM for Bottles:  0.011\n",
      "Brute LPM for Cans:  0.013\n"
     ]
    }
   ],
   "source": [
    "print (\"Doing the same for all counts.\" )\n",
    "\n",
    "for c in count_cols:\n",
    "    av_lpm = df[c].sum() / df.segment_length.sum()\n",
    "    print(f\"Brute LPM for {display_map[c]}:  {av_lpm:0.03f}\")"
   ]
  },
  {
   "cell_type": "markdown",
   "id": "c2bfe746-827b-42d0-a906-720c6020cee0",
   "metadata": {},
   "source": [
    "# Extrapolation\n",
    "\n",
    "Source\n",
    "https://www.gov.uk/government/statistics/road-lengths-in-great-britain-2022/road-lengths-in-great-britain-2022#headline-figures-in-this-release"
   ]
  },
  {
   "cell_type": "markdown",
   "id": "f0a07d71-8207-47e7-9a48-5347a0e75798",
   "metadata": {},
   "source": [
    "## Rural / Urban breakdown of segments dat"
   ]
  },
  {
   "cell_type": "code",
   "execution_count": 138,
   "id": "1cfd1b8b-67bc-4981-93a7-8398f3093ca5",
   "metadata": {},
   "outputs": [
    {
     "data": {
      "text/plain": [
       "['region',\n",
       " 'urban_rural_class',\n",
       " 'land_use',\n",
       " 'imd_quintile',\n",
       " 'imd_decile',\n",
       " 'urban_rural_desc']"
      ]
     },
     "execution_count": 138,
     "metadata": {},
     "output_type": "execute_result"
    }
   ],
   "source": [
    "group_cols"
   ]
  },
  {
   "cell_type": "code",
   "execution_count": 139,
   "id": "36a54718-5bff-4a1b-a39c-3ec83463af5e",
   "metadata": {},
   "outputs": [
    {
     "data": {
      "text/plain": [
       "urban_rural_class\n",
       "rural     63526.0\n",
       "urban    280363.7\n",
       "Name: segment_length, dtype: float64"
      ]
     },
     "execution_count": 139,
     "metadata": {},
     "output_type": "execute_result"
    }
   ],
   "source": [
    "df.groupby('urban_rural_class').segment_length.sum()"
   ]
  },
  {
   "cell_type": "markdown",
   "id": "5d8f9604-97b6-4007-adda-2b255ebda4bc",
   "metadata": {},
   "source": [
    "## Road Data information (total length and rural-urban classification) for England\n",
    "\n",
    "source\n",
    "https://www.gov.uk/government/statistical-data-sets/road-length-statistics-rdl"
   ]
  },
  {
   "cell_type": "code",
   "execution_count": 140,
   "id": "71117c9e-67f1-429d-bb12-03da34edfbc3",
   "metadata": {},
   "outputs": [
    {
     "data": {
      "text/plain": [
       "Index(['Trunk rural 'A' roads', 'Trunk urban 'A' roads',\n",
       "       'Principal rural 'A' roads', 'Principal urban 'A' roads',\n",
       "       'Rural 'B' roads', 'Urban 'B' roads', 'Rural 'C' roads',\n",
       "       'Urban 'C' roads', 'Rural 'U' roads', 'Urban 'U' roads',\n",
       "       'Total road length '],\n",
       "      dtype='object', name='desc')"
      ]
     },
     "execution_count": 140,
     "metadata": {},
     "output_type": "execute_result"
    }
   ],
   "source": [
    "pd.read_csv('data/rdl0201_rural_urban_roads.csv', names=['desc', 'length'], header=0, index_col='desc').T.columns"
   ]
  },
  {
   "cell_type": "code",
   "execution_count": 141,
   "id": "fe4cfb2b-ceb1-4f62-9173-98565c23567d",
   "metadata": {},
   "outputs": [
    {
     "data": {
      "text/html": [
       "<div>\n",
       "<style scoped>\n",
       "    .dataframe tbody tr th:only-of-type {\n",
       "        vertical-align: middle;\n",
       "    }\n",
       "\n",
       "    .dataframe tbody tr th {\n",
       "        vertical-align: top;\n",
       "    }\n",
       "\n",
       "    .dataframe thead th {\n",
       "        text-align: right;\n",
       "    }\n",
       "</style>\n",
       "<table border=\"1\" class=\"dataframe\">\n",
       "  <thead>\n",
       "    <tr style=\"text-align: right;\">\n",
       "      <th></th>\n",
       "      <th>length</th>\n",
       "    </tr>\n",
       "    <tr>\n",
       "      <th>desc</th>\n",
       "      <th></th>\n",
       "    </tr>\n",
       "  </thead>\n",
       "  <tbody>\n",
       "    <tr>\n",
       "      <th>Trunk rural 'A' roads</th>\n",
       "      <td>3940.60</td>\n",
       "    </tr>\n",
       "    <tr>\n",
       "      <th>Trunk urban 'A' roads</th>\n",
       "      <td>303.80</td>\n",
       "    </tr>\n",
       "    <tr>\n",
       "      <th>Principal rural 'A' roads</th>\n",
       "      <td>19551.30</td>\n",
       "    </tr>\n",
       "    <tr>\n",
       "      <th>Principal urban 'A' roads</th>\n",
       "      <td>9179.90</td>\n",
       "    </tr>\n",
       "    <tr>\n",
       "      <th>Rural 'B' roads</th>\n",
       "      <td>15227.52</td>\n",
       "    </tr>\n",
       "    <tr>\n",
       "      <th>Urban 'B' roads</th>\n",
       "      <td>4738.05</td>\n",
       "    </tr>\n",
       "    <tr>\n",
       "      <th>Rural 'C' roads</th>\n",
       "      <td>55695.29</td>\n",
       "    </tr>\n",
       "    <tr>\n",
       "      <th>Urban 'C' roads</th>\n",
       "      <td>8180.59</td>\n",
       "    </tr>\n",
       "    <tr>\n",
       "      <th>Rural 'U' roads</th>\n",
       "      <td>80337.35</td>\n",
       "    </tr>\n",
       "    <tr>\n",
       "      <th>Urban 'U' roads</th>\n",
       "      <td>100918.01</td>\n",
       "    </tr>\n",
       "    <tr>\n",
       "      <th>Total road length</th>\n",
       "      <td>301195.61</td>\n",
       "    </tr>\n",
       "  </tbody>\n",
       "</table>\n",
       "</div>"
      ],
      "text/plain": [
       "                              length\n",
       "desc                                \n",
       "Trunk rural 'A' roads        3940.60\n",
       "Trunk urban 'A' roads         303.80\n",
       "Principal rural 'A' roads   19551.30\n",
       "Principal urban 'A' roads    9179.90\n",
       "Rural 'B' roads             15227.52\n",
       "Urban 'B' roads              4738.05\n",
       "Rural 'C' roads             55695.29\n",
       "Urban 'C' roads              8180.59\n",
       "Rural 'U' roads             80337.35\n",
       "Urban 'U' roads            100918.01\n",
       "Total road length          301195.61"
      ]
     },
     "execution_count": 141,
     "metadata": {},
     "output_type": "execute_result"
    }
   ],
   "source": [
    "road_df = pd.read_csv('data/rdl0201_rural_urban_roads.csv', \n",
    "            names=['desc', 'length'], \n",
    "            header=0, \n",
    "            index_col='desc'\n",
    ").T\n",
    "road_df.T"
   ]
  },
  {
   "cell_type": "code",
   "execution_count": 142,
   "id": "759e3403-78b3-4c2e-9818-6f82b30e2a6e",
   "metadata": {},
   "outputs": [],
   "source": [
    "urban_cols = [c for c in road_df.columns if 'urban' in c.lower()]\n",
    "rural_cols = [c for c in road_df.columns if 'rural' in c.lower()]"
   ]
  },
  {
   "cell_type": "code",
   "execution_count": 143,
   "id": "8a7aa2a0-4a48-467c-b19e-2155161fe93a",
   "metadata": {},
   "outputs": [],
   "source": [
    "urban_dist_england = road_df[urban_cols].sum().sum() * 1000\n",
    "rural_dist_england = road_df[rural_cols].sum().sum() * 1000\n",
    "total_road_dist_england = urban_dist_england + rural_dist_england\n"
   ]
  },
  {
   "cell_type": "markdown",
   "id": "4d5609ec-99f9-44f0-8fd2-17f95cdaf481",
   "metadata": {},
   "source": [
    "### differences in road length data sources\n",
    "\n",
    "```\n",
    "# Road lengths in England: according to gov.uk dataset, 2022, converted to meters\n",
    "Total road length in miles: 187200 (including motorways)\n",
    "Total road distance in England: 298072 km\n",
    "\t(excludes motorways) \n",
    "\n",
    "# According to Ordnance Survey, September 2023, in meters\n",
    "Total road length in meters = 417,742,725\n",
    "Total road length in meters (excluding motorways) = 413,402,117\n",
    "```"
   ]
  },
  {
   "cell_type": "markdown",
   "id": "ad75116d-1811-4cc6-b1f0-d27e8f12ddd6",
   "metadata": {},
   "source": [
    "## First pass Extrapolation"
   ]
  },
  {
   "cell_type": "code",
   "execution_count": 146,
   "id": "233ee6b2-3911-4a3e-b73f-3ebd79a03c04",
   "metadata": {},
   "outputs": [
    {
     "name": "stdout",
     "output_type": "stream",
     "text": [
      "LPM and extrapolation of England litter on roads, without compensating.\n",
      "===\n",
      "Brute LPM for Total Litter:\t0.256\n",
      "Estimated total Total Litter litter for England:\t 152,584,014 objects.\n",
      "--\n",
      "Brute LPM for Non Smoking Related Litter:\t0.148\n",
      "Estimated total Non Smoking Related Litter litter for England:\t 88,455,355 objects.\n",
      "--\n",
      "Brute LPM for Food Litter:\t0.032\n",
      "Estimated total Food Litter litter for England:\t 18,833,124 objects.\n",
      "--\n",
      "Brute LPM for Drink Litter:\t0.057\n",
      "Estimated total Drink Litter litter for England:\t 33,784,863 objects.\n",
      "--\n",
      "Brute LPM for Fast Food Litter:\t0.003\n",
      "Estimated total Fast Food Litter litter for England:\t 1,502,975 objects.\n",
      "--\n",
      "Brute LPM for All cups:\t0.004\n",
      "Estimated total All cups litter for England:\t 2,404,413 objects.\n",
      "--\n",
      "Brute LPM for Wrappers:\t0.026\n",
      "Estimated total Wrappers litter for England:\t 15,756,099 objects.\n",
      "--\n",
      "Brute LPM for Bottles and Cans:\t0.023\n",
      "Estimated total Bottles and Cans litter for England:\t 13,986,160 objects.\n",
      "--\n",
      "Brute LPM for Bottles:\t0.011\n",
      "Estimated total Bottles litter for England:\t 6,290,998 objects.\n",
      "--\n",
      "Brute LPM for Cans:\t0.013\n",
      "Estimated total Cans litter for England:\t 7,695,162 objects.\n",
      "--\n"
     ]
    }
   ],
   "source": [
    "## First pass Extrapolation\n",
    "\n",
    "print(\"LPM and extrapolation of England litter on roads, without compensating.\\n===\")\n",
    "\n",
    "for c in count_cols:\n",
    "    # First calculate LPM\n",
    "    av_lpm = df[c].sum() / df.segment_length.sum()\n",
    "    print(f\"Brute LPM for {display_map[c]}:\\t{av_lpm:0.03f}\")\n",
    "\n",
    "    # Estimate total litter in England\n",
    "    # Multiply by 2 to match segment length to road length  \n",
    "    # (two segments for each stretch of road)\n",
    "    total_litter_estimate = (av_lpm * 2) * total_road_dist_england\n",
    "    print(f\"Estimated total {display_map[c]} litter for England:\\t {total_litter_estimate:0,.0f} objects.\")\n",
    "    \n",
    "    print(\"--\")"
   ]
  },
  {
   "cell_type": "markdown",
   "id": "31c89178-7e7a-4696-82a5-a9c3f3002c5f",
   "metadata": {},
   "source": [
    "## Urban Rural comparison (segments vs England)"
   ]
  },
  {
   "cell_type": "raw",
   "id": "03fb6dd2-4589-41e9-a1eb-449503d9cda1",
   "metadata": {},
   "source": [
    "# Examining the road dataset (all of England)"
   ]
  },
  {
   "cell_type": "code",
   "execution_count": 147,
   "id": "019f72f2-1bac-413c-9b95-a406e2f966a8",
   "metadata": {},
   "outputs": [
    {
     "name": "stdout",
     "output_type": "stream",
     "text": [
      "Total road distance in England: 298072 km\n",
      "\t(excludes motorways)\n",
      "Total urban road distance: 123,320,350 meters\n",
      "Total rural road distance: 174,752,060 meters\n",
      "Proportion of roads in England that are urban: 0.29\n"
     ]
    }
   ],
   "source": [
    "urban_dist_england = road_df[urban_cols].sum().sum() * 1000\n",
    "rural_dist_england = road_df[rural_cols].sum().sum() * 1000\n",
    "total_road_dist_england = urban_dist_england + rural_dist_england\n",
    "\n",
    "print(f\"Total road distance in England: {total_road_dist_england / 1000:.0f} km\")      \n",
    "print(f\"\\t(excludes motorways)\")      \n",
    "\n",
    "print(f\"Total urban road distance: {urban_dist_england:0,.0f} meters\")\n",
    "print(f\"Total rural road distance: {rural_dist_england:0,.0f} meters\")\n",
    "\n",
    "urban_ratio_england = urban_dist_england / (urban_dist_england + total_road_dist_england)\n",
    "print (f\"Proportion of roads in England that are urban: {urban_ratio_england:0.02f}\")"
   ]
  },
  {
   "cell_type": "raw",
   "id": "f1df54ce-e3bc-4e9a-bc13-f346629fe556",
   "metadata": {},
   "source": [
    "# for comparison, this is the urban  / rural proportions in our segments dataset"
   ]
  },
  {
   "cell_type": "code",
   "execution_count": 148,
   "id": "8892b792-88a7-4e26-9d76-44de8def8ec7",
   "metadata": {},
   "outputs": [
    {
     "name": "stdout",
     "output_type": "stream",
     "text": [
      "Segments data, length by urban/rural, in meters\n"
     ]
    },
    {
     "data": {
      "text/plain": [
       "urban_rural_class\n",
       "rural     63526.0\n",
       "urban    280363.7\n",
       "Name: segment_length, dtype: float64"
      ]
     },
     "execution_count": 148,
     "metadata": {},
     "output_type": "execute_result"
    }
   ],
   "source": [
    "\n",
    "print (\"Segments data, length by urban/rural, in meters\")\n",
    "df.groupby('urban_rural_class').segment_length.sum()"
   ]
  },
  {
   "cell_type": "code",
   "execution_count": 149,
   "id": "faeaec38-5308-4d5a-a314-987bd095e30d",
   "metadata": {},
   "outputs": [
    {
     "name": "stdout",
     "output_type": "stream",
     "text": [
      "Total segment distance in sample: 344 km\n",
      "Total urban segment length: 280,364 meters\n",
      "Proportion of segments in sampled data that are urban: 0.82\n"
     ]
    }
   ],
   "source": [
    "\n",
    "# Calculate the total length of segments\n",
    "total_segment_length = df['segment_length'].sum()\n",
    "print(f\"Total segment distance in sample: {total_segment_length / 1000:.0f} km\")      \n",
    "\n",
    "# Calculate the total length of urban segments\n",
    "urban_length_segments = df[df['urban_rural_class'] == 'urban']['segment_length'].sum()\n",
    "print(f\"Total urban segment length: {urban_length_segments:0,.0f} meters\")\n",
    "\n",
    "urban_ratio_segments = urban_length_segments / total_segment_length\n",
    "print (f\"Proportion of segments in sampled data that are urban: {urban_ratio_segments:0.02f}\")"
   ]
  },
  {
   "cell_type": "code",
   "execution_count": 150,
   "id": "ef9a23d9-7f12-42bc-b352-9c1a55a8ac85",
   "metadata": {},
   "outputs": [
    {
     "name": "stdout",
     "output_type": "stream",
     "text": [
      "Total rural segment length: 63,526 meters\n"
     ]
    }
   ],
   "source": [
    "# Calculate the total length of urban segments\n",
    "rural_length_segments = df[df['urban_rural_class'] == 'rural']['segment_length'].sum()\n",
    "print(f\"Total rural segment length: {rural_length_segments:0,.0f} meters\")\n"
   ]
  },
  {
   "cell_type": "code",
   "execution_count": 151,
   "id": "fc777121-3510-4bdb-be4e-c82e4923b6c0",
   "metadata": {},
   "outputs": [
    {
     "name": "stdout",
     "output_type": "stream",
     "text": [
      "Ratio of urban segments distance: 0.82\n"
     ]
    }
   ],
   "source": [
    "print (f\"Ratio of urban segments distance: {urban_ratio_segments:0.02f}\")"
   ]
  },
  {
   "cell_type": "code",
   "execution_count": 152,
   "id": "075c65d2-8d7f-4ca1-9da6-4b8ba9e59b36",
   "metadata": {},
   "outputs": [
    {
     "data": {
      "text/plain": [
       "0.18472783569848122"
      ]
     },
     "execution_count": 152,
     "metadata": {},
     "output_type": "execute_result"
    }
   ],
   "source": [
    "63526.0 / (63526.0 + 280363.7)"
   ]
  },
  {
   "cell_type": "markdown",
   "id": "9c67b435-239f-4773-ae14-0e8170fc9d2d",
   "metadata": {},
   "source": [
    "## Compute Estimate compensated for Rural / Urban"
   ]
  },
  {
   "cell_type": "code",
   "execution_count": 153,
   "id": "c0607096-2dd1-4888-8e88-89c2a71e0000",
   "metadata": {},
   "outputs": [
    {
     "data": {
      "text/plain": [
       "74257"
      ]
     },
     "execution_count": 153,
     "metadata": {},
     "output_type": "execute_result"
    }
   ],
   "source": [
    "urban_mask = df.urban_rural_class == 'urban'\n",
    "df[urban_mask]['litter_count'].sum()"
   ]
  },
  {
   "cell_type": "code",
   "execution_count": 154,
   "id": "93bb4c29-fa10-452a-bbc7-f9f0f83c812b",
   "metadata": {},
   "outputs": [],
   "source": [
    "def extrapolation_with_urban_rural_compensation(count_col):\n",
    "    \"\"\"\n",
    "    Extrapolation of England litter on roads, after compensating for urban / rural\n",
    "    \"\"\"\n",
    "    # urban LPM\n",
    "    urban_mask = df.urban_rural_class == 'urban'\n",
    "    num = df[urban_mask][count_col].sum()\n",
    "    den = df[urban_mask].segment_length.sum()\n",
    "    lpm_urban = num / den\n",
    "    print(f\"Urban LPM for {display_map[count_col]}:\\t{lpm_urban:0.03f}\")\n",
    "\n",
    "    # extrapolation for urban\n",
    "    urban_extrap = (lpm_urban * 2) * urban_dist_england\n",
    "\n",
    "    # Rural LPM\n",
    "    rural_mask = df.urban_rural_class == 'rural'\n",
    "    num = df[rural_mask][count_col].sum()\n",
    "    den = df[rural_mask].segment_length.sum()\n",
    "    lpm_rural = num / den\n",
    "    print(f\"Rural LPM for {display_map[count_col]}:\\t{lpm_rural:0.03f}\")\n",
    "\n",
    "    # extrapolation for urban\n",
    "    rural_extrap = (lpm_rural * 2) * rural_dist_england\n",
    "\n",
    "    # Estimate total litter in England\n",
    "    return urban_extrap + rural_extrap"
   ]
  },
  {
   "cell_type": "code",
   "execution_count": 155,
   "id": "a4f617e6-c057-4b64-b660-395be8821f96",
   "metadata": {},
   "outputs": [
    {
     "name": "stdout",
     "output_type": "stream",
     "text": [
      "Extrapolation of England litter on roads, after compensating for urban / rural.\n",
      "===\n",
      "Urban LPM for Total Litter:\t0.265\n",
      "Rural LPM for Total Litter:\t0.217\n",
      "Extrapolated Total Litter on England's roads:\t 141,040,214 objects.\n",
      "--\n",
      "Urban LPM for Non Smoking Related Litter:\t0.151\n",
      "Rural LPM for Non Smoking Related Litter:\t0.138\n",
      "Extrapolated Non Smoking Related Litter on England's roads:\t 85,428,282 objects.\n",
      "--\n",
      "Urban LPM for Food Litter:\t0.031\n",
      "Rural LPM for Food Litter:\t0.033\n",
      "Extrapolated Food Litter on England's roads:\t 19,277,379 objects.\n",
      "--\n",
      "Urban LPM for Drink Litter:\t0.057\n",
      "Rural LPM for Drink Litter:\t0.054\n",
      "Extrapolated Drink Litter on England's roads:\t 32,984,508 objects.\n",
      "--\n",
      "Urban LPM for Fast Food Litter:\t0.002\n",
      "Rural LPM for Fast Food Litter:\t0.003\n",
      "Extrapolated Fast Food Litter on England's roads:\t 1,705,609 objects.\n",
      "--\n",
      "Urban LPM for All cups:\t0.004\n",
      "Rural LPM for All cups:\t0.004\n",
      "Extrapolated All cups on England's roads:\t 2,523,581 objects.\n",
      "--\n",
      "Urban LPM for Wrappers:\t0.026\n",
      "Rural LPM for Wrappers:\t0.029\n",
      "Extrapolated Wrappers on England's roads:\t 16,504,909 objects.\n",
      "--\n",
      "Urban LPM for Bottles and Cans:\t0.023\n",
      "Rural LPM for Bottles and Cans:\t0.027\n",
      "Extrapolated Bottles and Cans on England's roads:\t 14,973,499 objects.\n",
      "--\n",
      "Urban LPM for Bottles:\t0.011\n",
      "Rural LPM for Bottles:\t0.011\n",
      "Extrapolated Bottles on England's roads:\t 6,289,254 objects.\n",
      "--\n",
      "Urban LPM for Cans:\t0.012\n",
      "Rural LPM for Cans:\t0.016\n",
      "Extrapolated Cans on England's roads:\t 8,684,245 objects.\n",
      "--\n"
     ]
    }
   ],
   "source": [
    "## Rural Urban Extrapolation\n",
    "\n",
    "print(\"Extrapolation of England litter on roads, after compensating for urban / rural.\\n===\")\n",
    "\n",
    "for c in count_cols:\n",
    "    total_litter_estimate =  extrapolation_with_urban_rural_compensation(count_col = c)\n",
    "    print(f\"Extrapolated {display_map[c]} on England's roads:\\t {total_litter_estimate:0,.0f} objects.\")\n",
    "    \n",
    "    print(\"--\")"
   ]
  },
  {
   "cell_type": "code",
   "execution_count": null,
   "id": "fa554172-515d-41cf-8448-d53eaf98cb46",
   "metadata": {},
   "outputs": [],
   "source": []
  }
 ],
 "metadata": {
  "kernelspec": {
   "display_name": "Python 3 (ipykernel)",
   "language": "python",
   "name": "python3"
  },
  "language_info": {
   "codemirror_mode": {
    "name": "ipython",
    "version": 3
   },
   "file_extension": ".py",
   "mimetype": "text/x-python",
   "name": "python",
   "nbconvert_exporter": "python",
   "pygments_lexer": "ipython3",
   "version": "3.11.4"
  }
 },
 "nbformat": 4,
 "nbformat_minor": 5
}
